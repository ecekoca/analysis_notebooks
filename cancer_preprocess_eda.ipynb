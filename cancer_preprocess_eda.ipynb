{
 "cells": [
  {
   "cell_type": "markdown",
   "metadata": {},
   "source": [
    "# Initial preprocessing and EDA pipeline"
   ]
  },
  {
   "cell_type": "markdown",
   "metadata": {},
   "source": [
    "## Setup libraries & load dataset"
   ]
  },
  {
   "cell_type": "code",
   "execution_count": null,
   "metadata": {},
   "outputs": [],
   "source": [
    "import pandas as pd\n",
    "import numpy as np\n",
    "import plotly.express as px\n",
    "import matplotlib.pyplot as plt\n",
    "import seaborn as sns\n",
    "import math, boto3, tempfile\n",
    "import scipy.stats as sp\n",
    "from utils import *\n",
    "from label_utils import *"
   ]
  },
  {
   "cell_type": "code",
   "execution_count": null,
   "metadata": {},
   "outputs": [],
   "source": [
    "s3_path = 's3://ukb-colorectal-cancer/analysis/'"
   ]
  },
  {
   "cell_type": "code",
   "execution_count": null,
   "metadata": {},
   "outputs": [],
   "source": [
    "fdir = 'processed/8079926a-4598-4d0c-ac9a-353cf8e638b1/v1/'\n",
    "fname = 'data.h5'\n",
    "\n",
    "s3_client = boto3.client('s3',region_name='eu-west-2')\n",
    "storedata = s3_client.get_object(Bucket='dataset-generator-bucket', Key=fdir+fname)['Body'].read()\n",
    "\n",
    "with tempfile.NamedTemporaryFile(suffix='.h5') as temp:\n",
    "    output_path = temp.name\n",
    "    with open(output_path, 'wb') as temp_file:\n",
    "        temp_file.write(storedata)\n",
    "    \n",
    "    with pd.HDFStore(output_path, 'r') as storedata:\n",
    "        df = storedata.get('dataframe')\n",
    "        metadata = storedata.get_storer('dataframe').attrs.metadata\n",
    "        \n",
    "df = df.reset_index(drop=True)\n",
    "df.head()        "
   ]
  },
  {
   "cell_type": "code",
   "execution_count": null,
   "metadata": {},
   "outputs": [],
   "source": [
    "df.shape"
   ]
  },
  {
   "cell_type": "code",
   "execution_count": null,
   "metadata": {},
   "outputs": [],
   "source": [
    "df.groupby(\"HealthLabel\")['pulse'].count()"
   ]
  },
  {
   "cell_type": "markdown",
   "metadata": {},
   "source": [
    "## Create other cancer labels"
   ]
  },
  {
   "cell_type": "code",
   "execution_count": null,
   "metadata": {},
   "outputs": [],
   "source": [
    "file_path = 's3://ukb-colorectal-cancer/ukb52347.csv'\n",
    "df = read_csv(file_path)\n",
    "df = remove_not_consented_participants(df)\n",
    "df = remove_consent_withdrawals(df)"
   ]
  },
  {
   "cell_type": "code",
   "execution_count": null,
   "metadata": {},
   "outputs": [],
   "source": [
    "fields_to_aggregate = [102, 4079, 4080]\n",
    "df = aggregate_repeat_measurements(df, field_ids=fields_to_aggregate, visit_id=0)"
   ]
  },
  {
   "cell_type": "code",
   "execution_count": null,
   "metadata": {},
   "outputs": [],
   "source": [
    "cancer_labels_df = pd.DataFrame()\n",
    "\n",
    "cancer_codes = [['C18','C19','C20'],['C50'], ['C61'], ['C33','C34'], ['C67'], ['C64'],['C70','C71'], ['C82','C83','C84','C85','C86'],\\\n",
    "                ['C73'],['C16'],['C22'],['C25'],['C53']]\n",
    "labels = ['colorectal-ca', 'breast-ca', 'prostate-ca', 'lung-ca', 'bladder-ca', 'kidney-ca', 'brain-ca', 'non-hodgkins-lymphoma', 'thyroid-ca','\\\n",
    "stomach-ca','liver-ca','pancreas-ca','cervical-ca']\n",
    "\n",
    "count=[]\n",
    "other=[0]\n",
    "k = 0\n",
    "for i in cancer_codes:\n",
    "    ca_label = generate_labels_from_cancer_registry(df, i)\n",
    "    count.append(len(ca_label[ca_label[\"label_class\"]==1]))\n",
    "    other.append(len(ca_label[ca_label[\"label_class\"]==2]))\n",
    "    ca_label.to_csv('./labels/'+labels[k]+'_labels.csv')\n",
    "    cancer_labels_df[labels[k]] = ca_label['label_class']\n",
    "    k = k + 1\n",
    "print(count)\n",
    "print(other)\n",
    "cancer_labels_df.to_csv(s3_path+'labels/all_cancer_labels.csv')"
   ]
  },
  {
   "cell_type": "code",
   "execution_count": null,
   "metadata": {},
   "outputs": [],
   "source": [
    "count.insert(0, len(ca_label[ca_label[\"label_class\"]==0])) # add count of controls\n",
    "other[0] = count[0]"
   ]
  },
  {
   "cell_type": "code",
   "execution_count": null,
   "metadata": {},
   "outputs": [],
   "source": [
    "labels = ['Healthy','Colorectal ca', 'Breast ca', 'Prostate ca', 'Lung ca', 'Bladder ca', 'Kidney ca', 'Brain ca', 'Non-Hodgkins lymphoma', 'Thyroid ca','\\\n",
    "Stomach ca','Liver ca','Pancreas ca','Cervical ca']\n",
    "\n",
    "cancer_df = pd.DataFrame()\n",
    "cancer_df['Cancer_type'] = labels\n",
    "cancer_df['Current_N'] = count\n",
    "cancer_df['Current_%'] = np.array(count)/(len(df))*100\n",
    "cancer_df['Future_N'] = other\n",
    "cancer_df['Future_%'] = np.array(other)/(len(df))*100\n",
    "cancer_df.to_csv(s3_path+'tables/cancer_count_raw_data.csv', index=False)\n",
    "\n",
    "cancer_df.sort_values(by=['Current_%'], ascending=False)"
   ]
  },
  {
   "cell_type": "code",
   "execution_count": null,
   "metadata": {},
   "outputs": [],
   "source": [
    "# Plot changes in cancer cases since baseline visit\n",
    "\n",
    "df_lab = read_csv(s3_path+'labels/all_cancer_labels.csv')\n",
    "\n",
    "labels = ['colorectal-ca', 'breast-ca', 'prostate-ca', 'lung-ca', 'bladder-ca', 'kidney-ca', 'brain-ca', 'nh-lymphoma', 'thyroid-ca','\\\n",
    "stomach-ca','liver-ca','pancreas-ca','cervical-ca']\n",
    "\n",
    "count = []\n",
    "other = []\n",
    "\n",
    "for i in df_lab:\n",
    "    count.append(len(df_lab[df_lab[i]==1]))\n",
    "    other.append(len(df_lab[df_lab[i]==2]))\n",
    "count.pop(0)\n",
    "other.pop(0)"
   ]
  },
  {
   "cell_type": "code",
   "execution_count": null,
   "metadata": {},
   "outputs": [],
   "source": [
    "for i in range(len(count)):\n",
    "    y = [count[i], other[i]]\n",
    "    plt.plot([1,2], y, label=labels[i])\n",
    "    \n",
    "plt.title('Change in total number of cancer cases since baseline')\n",
    "plt.legend(loc='upper left', prop={'size':7})\n",
    "plt.xticks([1,2])\n",
    "plt.savefig('./figures/change_in_tot_cancer_cases.jpg', dpi=150)\n",
    "plt.show()"
   ]
  },
  {
   "cell_type": "code",
   "execution_count": null,
   "metadata": {},
   "outputs": [],
   "source": [
    "count.insert(0,len(df_lab[df_lab['colorectal-ca']==0]))\n",
    "other.insert(0,count[0])"
   ]
  },
  {
   "cell_type": "code",
   "execution_count": null,
   "metadata": {},
   "outputs": [],
   "source": [
    "other"
   ]
  },
  {
   "cell_type": "code",
   "execution_count": null,
   "metadata": {},
   "outputs": [],
   "source": [
    "labels = ['Cancer-any', 'Healthy']\n",
    "ns = [np.sum(count[1:13]), count[0]]\n",
    "\n",
    "fig1, (ax1, ax2) = plt.subplots(1,2,figsize=(12,8))\n",
    "theme = plt.get_cmap('jet')\n",
    "\n",
    "ax1 = plt.subplot(121)\n",
    "plt.pie(ns, labels=labels, colors=['tomato','navy'], autopct='%1.1f%%')\n",
    "ax1.title.set_text('Distribution of health labels')\n",
    "circle = plt.Circle((0,0), 0.75, color='white')\n",
    "p=plt.gcf()\n",
    "p.gca().add_artist(circle)\n",
    "\n",
    "ax2 = plt.subplot(122)\n",
    "labels = ['Colorectal ca', 'Breast ca', 'Prostate ca', 'Lung ca', 'Bladder ca', 'Kidney ca', 'Brain ca', 'Non-Hodgkins lymphoma', 'Thyroid ca', \\\n",
    "         'Stomach ca', 'Cervical ca']\n",
    "ns = count[1:11]+[count[13]]\n",
    "ax2.title.set_text('Distribution of cancer subtypes')\n",
    "theme = plt.get_cmap('jet')\n",
    "ax2.set_prop_cycle(\"color\", [theme(1. * i / len(labels))\n",
    "                             for i in range(len(labels))])\n",
    "plt.pie(ns, labels=labels, autopct='%1.1f%%')\n",
    "circle = plt.Circle((0,0), 0.75, color='white')\n",
    "p=plt.gcf()\n",
    "p.gca().add_artist(circle)\n",
    "\n",
    "plt.savefig('./figures/label_distributions.jpg', dpi=150)\n",
    "plt.show()"
   ]
  },
  {
   "cell_type": "code",
   "execution_count": null,
   "metadata": {},
   "outputs": [],
   "source": [
    "# Do people with colorectal cancer, have other types of cancer?\n",
    "\n",
    "concurrent_cancer = []\n",
    "for key in df_lab:\n",
    "    concurrent_cancer.append(len(df_lab.loc[(df_lab['colorectal-ca']==1) & (df_lab[key]==1)]))\n",
    "concurrent_cancer.pop(0)"
   ]
  },
  {
   "cell_type": "code",
   "execution_count": null,
   "metadata": {},
   "outputs": [],
   "source": [
    "np.sum(concurrent_cancer)"
   ]
  },
  {
   "cell_type": "code",
   "execution_count": null,
   "metadata": {},
   "outputs": [],
   "source": [
    "fig1, (ax1, ax2) = plt.subplots(1,2,figsize=(12,8))\n",
    "theme = plt.get_cmap('jet')\n",
    "\n",
    "labels = ['Healthy', 'CRC', 'Concurrent']\n",
    "ns = [count[0], count[1]-np.sum(concurrent_cancer), np.sum(concurrent_cancer)]\n",
    "\n",
    "ax1 = plt.subplot(121)\n",
    "ax1.title.set_text('Distribution of health labels')\n",
    "theme = plt.get_cmap('jet')\n",
    "ax1.set_prop_cycle(\"color\", [theme(1. * i / len(labels))\n",
    "                             for i in range(len(labels))])\n",
    "plt.pie(ns, labels=labels, autopct='%1.1f%%')\n",
    "circle = plt.Circle((0,0), 0.75, color='white')\n",
    "p=plt.gcf()\n",
    "p.gca().add_artist(circle)\n",
    "\n",
    "labels = ['Healthy', 'Current CRC', 'Future CRC']\n",
    "ns = count[:2]+[other[1]]\n",
    "ax2 = plt.subplot(122)\n",
    "ax2.title.set_text('Distribution of CRC')\n",
    "theme = plt.get_cmap('jet')\n",
    "ax2.set_prop_cycle(\"color\", [theme(1. * i / len(labels))\n",
    "                             for i in range(len(labels))])\n",
    "plt.pie(ns, labels=labels, autopct='%1.1f%%')\n",
    "circle = plt.Circle((0,0), 0.75, color='white')\n",
    "p=plt.gcf()\n",
    "p.gca().add_artist(circle)\n",
    "\n",
    "plt.savefig('./figures/CRC_distibutions.jpg', dpi=150)\n",
    "plt.show()"
   ]
  },
  {
   "cell_type": "code",
   "execution_count": null,
   "metadata": {},
   "outputs": [],
   "source": [
    "fig1, ax1 = plt.subplots(figsize=(6,8))\n",
    "\n",
    "labels = ['Breast ca', 'Prostate ca', 'Lung ca', 'Bladder ca', 'Kidney ca', 'Brain ca', 'NH lymphoma', 'Thyroid ca', \\\n",
    "        'Stomach ca','Liver ca','Pancreas ca','Cervical ca']\n",
    "ns = concurrent_cancer[1:]\n",
    "\n",
    "ax1.title.set_text('Other cancer concurrent with CRC')\n",
    "theme = plt.get_cmap('jet')\n",
    "ax1.set_prop_cycle(\"color\", [theme(1. * i / len(labels))\n",
    "                             for i in range(len(labels))])\n",
    "plt.pie(ns, labels=labels, autopct='%1.1f%%')\n",
    "\n",
    "circle = plt.Circle((0,0), 0.75, color='white')\n",
    "p=plt.gcf()\n",
    "p.gca().add_artist(circle)\n",
    "\n",
    "plt.savefig('./figures/CRC_concurrent_cases.jpg', dpi=150)\n",
    "plt.show()"
   ]
  },
  {
   "cell_type": "markdown",
   "metadata": {},
   "source": [
    "## Remove missing values, withdrawals, duplicate rows "
   ]
  },
  {
   "cell_type": "code",
   "execution_count": null,
   "metadata": {},
   "outputs": [],
   "source": [
    "file_path = 's3://ukb-colorectal-cancer/ukb52347.csv'\n",
    "df = pd.read_csv(file_path)\n",
    "df_add = pd.read_csv('s3://ukb-colorectal-cancer/Participant_table_additional_fields.csv')\n",
    "df_add.rename(columns={'Participant ID':'eid'}, inplace=True)\n",
    "df = pd.merge(df,df_add, on='eid', how='left')"
   ]
  },
  {
   "cell_type": "code",
   "execution_count": null,
   "metadata": {},
   "outputs": [],
   "source": [
    "df = remove_not_consented_participants(df)\n",
    "df = remove_consent_withdrawals(df)\n",
    "\n",
    "fields_to_aggregate = [102, 4079, 4080]\n",
    "df = aggregate_repeat_measurements(df, field_ids=fields_to_aggregate, visit_id=0)\n",
    "df.shape"
   ]
  },
  {
   "cell_type": "code",
   "execution_count": null,
   "metadata": {},
   "outputs": [],
   "source": [
    "df_lab = read_csv(s3_path+'labels/all_cancer_labels.csv')"
   ]
  },
  {
   "cell_type": "code",
   "execution_count": null,
   "metadata": {},
   "outputs": [],
   "source": [
    "df_sm = df[['31-0.0','21022-0.0','21000-0.0','189-0.0', \\\n",
    "            '21001-0.0','102-0','4079-0','4080-0',\\\n",
    "            '30000-0.0','30010-0.0','30020-0.0','30030-0.0','30080-0.0','30180-0.0','30500-0.0','30510-0.0','30520-0.0','30530-0.0',\\\n",
    "            '30630-0.0','30640-0.0','30670-0.0','30690-0.0','30710-0.0','30720-0.0','30760-0.0','30770-0.0','30780-0.0','30830-0.0',\\\n",
    "            '30850-0.0','30860-0.0','30870-0.0','30890-0.0',\\\n",
    "            '40008-0.0','134-0.0','40009-0.0','40007-0.0','40011-0.0','40012-0.0','190-0.0', \\\n",
    "            'Basophill percentage | Instance 0', 'Eosinophill percentage | Instance 0', 'Mean corpuscular haemoglobin concentration | Instance 0', 'Mean corpuscular volume | Instance 0', 'Monocyte percentage | Instance 0', \\\n",
    "            'Neutrophill percentage | Instance 0', 'Reticulocyte percentage | Instance 0', 'Platelet distribution width | Instance 0', 'Platelet crit | Instance 0', 'Alanine aminotransferase | Instance 0', 'Albumin | Instance 0', \\\n",
    "            'Alkaline phosphatase | Instance 0', 'Aspartate aminotransferase | Instance 0', 'Calcium | Instance 0', 'Creatinine | Instance 0', 'Direct bilirubin | Instance 0', 'Gamma glutamyltransferase | Instance 0', \\\n",
    "            'Glucose | Instance 0', 'Glycated haemoglobin (HbA1c) | Instance 0', 'Oestradiol | Instance 0', 'Phosphate | Instance 0', 'Rheumatoid factor | Instance 0', 'Total bilirubin | Instance 0', '3-Hydroxybutyrate | Instance 0', \\\n",
    "            'Citrate | Instance 0', 'Glutamine | Instance 0', 'Glycine | Instance 0', 'Histidine | Instance 0', 'Isoleucine | Instance 0', 'Lactate | Instance 0', 'Leucine | Instance 0', 'Monounsaturated Fatty Acids to Total Fatty Acids percentage | Instance 0', \\\n",
    "            'Phenylalanine | Instance 0', 'Sphingomyelins | Instance 0', 'Tyrosine | Instance 0', 'Valine | Instance 0', 'Docosahexaenoic Acid to Total Fatty Acids percentage | Instance 0', 'Hand grip strength (left) | Instance 0', 'Hand grip strength (right) | Instance 0', \\\n",
    "            'Trunk fat percentage | Instance 0', 'Basal metabolic rate | Instance 0', 'Adjusted T/S ratio | Instance 0', 'T/S ratio for regression dilution bias | Instance 0', 'Unadjusted T/S ratio | Instance 0', 'Z-adjusted T/S log | Instance 0']]\n",
    "df_sm.columns = ['sex','age','ethnicity','townsend',\\\n",
    "                 'bmi','pulse','dbp','sbp',\\\n",
    "                 'wbc','rbc','hgb','hct','plt','lym','ualb','cr_urine','potas','sodium',\\\n",
    "                 'apoa','apob','urea','chol','crp','cysc','hdl','igf1','ldl','shbg',\\\n",
    "                 'tst','tprotein','tgly','vitd',\\\n",
    "                 'age_at_diagnosis','n_cancer_dx','n_cancer_occs','age_at_death','tumour_hist','tumour_beh','reason_lost', \\\n",
    "                 'baso', 'eos', 'mchc', 'mcv', 'mono', \\\n",
    "                 'np', 'ret', 'pdw', 'pct', 'alt', 'alb', \\\n",
    "                 'alp', 'ast', 'calc', 'cr_blood', 'dbi', 'ggt', \\\n",
    "                 'glu', 'hgba1c', 'e2', 'phos', 'rf', 'tbil', 'phbv', \\\n",
    "                 'cit', 'gln', 'gly', 'his', 'ile', 'bla', 'leu', 'mufa',\\\n",
    "                 'phe', 'sph', 'tyr', 'val', 'dha_tfa', 'grip_l', 'grip_r', \\\n",
    "                 'trunk_fat', 'bmr', 'adj_ts_ratio', 'ts_ratio_reg', 'unadj_ts_ratio', 'z_ts_ratio']\n"
   ]
  },
  {
   "cell_type": "code",
   "execution_count": null,
   "metadata": {},
   "outputs": [],
   "source": [
    "df_sm.columns"
   ]
  },
  {
   "cell_type": "code",
   "execution_count": null,
   "metadata": {},
   "outputs": [],
   "source": [
    "df_sm['label_crc'] = df_lab['colorectal-ca']\n",
    "df = df_sm\n",
    "df.columns"
   ]
  },
  {
   "cell_type": "code",
   "execution_count": null,
   "metadata": {},
   "outputs": [],
   "source": [
    "df.shape"
   ]
  },
  {
   "cell_type": "code",
   "execution_count": null,
   "metadata": {},
   "outputs": [],
   "source": [
    "# Calculate how many missing values each column has\n",
    "\n",
    "nan_df = pd.DataFrame(df.isna().sum()).reset_index()\n",
    "nan_df.columns  = ['Column', 'NaN_Count']\n",
    "nan_df['NaN_Count'] = nan_df['NaN_Count'].astype('int')\n",
    "nan_df['NaN%'] = round(nan_df['NaN_Count']/len(df) * 100,1)\n",
    "nan_df['Type']  = 'Missingness'\n",
    "nan_df.sort_values('NaN%', inplace=True, ascending=False)\n",
    "\n",
    "nan_df.to_csv(s3_path+'tables/missing_value_count.csv', index=False)\n",
    "nan_df"
   ]
  },
  {
   "cell_type": "code",
   "execution_count": null,
   "metadata": {},
   "outputs": [],
   "source": [
    "# Find and remove participants who withdrew consent\n",
    "\n",
    "idx = df.index[df['reason_lost'].isin([5])]\n",
    "print(len(idx),'people withdrew consent')\n",
    "df.drop(idx, inplace=True)\n",
    "print(len(df),'rows left after removing withdrawals')"
   ]
  },
  {
   "cell_type": "code",
   "execution_count": null,
   "metadata": {},
   "outputs": [],
   "source": [
    "df.pop('reason_lost');"
   ]
  },
  {
   "cell_type": "code",
   "execution_count": null,
   "metadata": {},
   "outputs": [],
   "source": [
    "# Remove duplicate rows if any\n",
    "\n",
    "df.drop_duplicates(keep='first', inplace=True)"
   ]
  },
  {
   "cell_type": "code",
   "execution_count": null,
   "metadata": {},
   "outputs": [],
   "source": [
    "df.reset_index(inplace=True, drop=True)\n",
    "df.head()"
   ]
  },
  {
   "cell_type": "code",
   "execution_count": null,
   "metadata": {},
   "outputs": [],
   "source": [
    "# Remove participants with other or future cancer\n",
    "\n",
    "other_idx = list(df.index[df['label_crc'] == 2]) + list(df.index[df['label_crc'] == 3])\n",
    "print(len(other_idx), 'participants have other types of cancer, or will develop cancer')\n",
    "df.drop(df.index[other_idx], inplace=True)\n",
    "print(len(df), 'rows left after removing these participants')"
   ]
  },
  {
   "cell_type": "code",
   "execution_count": null,
   "metadata": {},
   "outputs": [],
   "source": [
    "df.to_csv(s3_path+'crc_dataset.csv', index=False)"
   ]
  },
  {
   "cell_type": "markdown",
   "metadata": {},
   "source": [
    "## Visualise label and demographic information"
   ]
  },
  {
   "cell_type": "code",
   "execution_count": null,
   "metadata": {},
   "outputs": [],
   "source": [
    "df = read_csv(s3_path+'crc_dataset.csv')"
   ]
  },
  {
   "cell_type": "code",
   "execution_count": null,
   "metadata": {},
   "outputs": [],
   "source": [
    "eth_codes =[1, 1001, 1002, 1003, 2001, 2002, 2003, 2004, 3001, 3002, 3003, 3004, 4001, 4002, 5, 6]\n",
    "c_ns = []\n",
    "p_ns = []\n",
    "for i in eth_codes:\n",
    "    c_ns.append(len(df.loc[(df['ethnicity'] == i) & (df['label_crc'] == False)]))\n",
    "    p_ns.append(len(df.loc[(df['ethnicity'] == i) & (df['label_crc'] == True)]))"
   ]
  },
  {
   "cell_type": "code",
   "execution_count": null,
   "metadata": {},
   "outputs": [],
   "source": [
    "c_n=[np.array(c_ns[:4]).sum(), np.array(c_ns[4:8]).sum(), (np.array(c_ns[8:12]).sum())+c_ns[14], np.array(c_ns[12:14]).sum(), c_ns[15]]\n",
    "p_n=[np.array(p_ns[:4]).sum(), np.array(p_ns[4:8]).sum(), (np.array(p_ns[8:12]).sum())+p_ns[14], np.array(p_ns[12:14]).sum(), p_ns[15]]"
   ]
  },
  {
   "cell_type": "code",
   "execution_count": null,
   "metadata": {},
   "outputs": [],
   "source": [
    "c_n"
   ]
  },
  {
   "cell_type": "code",
   "execution_count": null,
   "metadata": {},
   "outputs": [],
   "source": [
    "# Visualise ethnicity\n",
    "\n",
    "labels = ['White', 'Mixed', 'Asian', 'Black', 'Other']\n",
    "\n",
    "fig1, (ax1, ax2) = plt.subplots(1,2,figsize=(12,6))\n",
    "ax1 = plt.subplot(121)\n",
    "ax1.title.set_text('Ethnicity in Healthy controls')\n",
    "theme = plt.get_cmap('jet')\n",
    "ax1.set_prop_cycle(\"color\", [theme(1. * i / len(labels))\n",
    "                             for i in range(len(labels))])\n",
    "plt.pie(c_n, labels=labels, autopct='%1.1f%%')\n",
    "circle = plt.Circle((0,0), 0.75, color='white')\n",
    "p=plt.gcf()\n",
    "p.gca().add_artist(circle)\n",
    "\n",
    "ax2 = plt.subplot(122)\n",
    "ax2.title.set_text('Ethnicity in Colorectal ca')\n",
    "theme = plt.get_cmap('jet')\n",
    "ax2.set_prop_cycle(\"color\", [theme(1. * i / len(labels))\n",
    "                             for i in range(len(labels))])\n",
    "plt.pie(p_n, labels=labels, autopct='%1.1f%%')\n",
    "circle = plt.Circle((0,0), 0.75, color='white')\n",
    "p=plt.gcf()\n",
    "p.gca().add_artist(circle)\n",
    "\n",
    "plt.savefig('./figures/ethnicity_distributions.jpg', dpi=150)\n",
    "plt.show()"
   ]
  },
  {
   "cell_type": "code",
   "execution_count": null,
   "metadata": {},
   "outputs": [],
   "source": [
    "sex_codes =[0, 1]\n",
    "labels = ['Female', 'Male']\n",
    "ns = []\n",
    "for i in sex_codes:\n",
    "    ns.append(len(df.loc[(df['sex'] == i) & (df['label_crc'] == False)]))\n",
    "\n",
    "fig1, (ax1, ax2) = plt.subplots(1,2,figsize=(10,5))\n",
    "ax1 = plt.subplot(121)\n",
    "ax1.title.set_text('Sex in Healthy controls')\n",
    "plt.pie(ns, labels=labels, colors=['tomato','navy'], autopct='%1.1f%%')\n",
    "circle = plt.Circle((0,0), 0.75, color='white')\n",
    "p=plt.gcf()\n",
    "p.gca().add_artist(circle)\n",
    "\n",
    "ns = []\n",
    "for i in sex_codes:\n",
    "    ns.append(len(df.loc[(df['sex'] == i) & (df['label_crc'] == True)]))\n",
    "\n",
    "ax2 = plt.subplot(122)\n",
    "ax2.title.set_text('Sex in Colorectal ca')\n",
    "plt.pie(ns, labels=labels, colors=['tomato','navy'], autopct='%1.1f%%')\n",
    "circle = plt.Circle((0,0), 0.75, color='white')\n",
    "p=plt.gcf()\n",
    "p.gca().add_artist(circle)\n",
    "\n",
    "plt.savefig('./figures/sex_distributions.jpg', dpi=150)\n",
    "plt.show()"
   ]
  },
  {
   "cell_type": "code",
   "execution_count": null,
   "metadata": {},
   "outputs": [],
   "source": [
    "# Visualise socioeconomic status\n",
    "\n",
    "c_idx = df['label_crc'] == False\n",
    "p_idx = df['label_crc'] == True\n",
    "\n",
    "fig1, (ax1, ax2) = plt.subplots(1,2,figsize=(10,5))\n",
    "ax1 = plt.subplot(121)\n",
    "plt.hist(df['townsend'][c_idx], bins=50, color='midnightblue', edgecolor='none')\n",
    "ax1.title.set_text('Townsend DI in Healthy Controls')\n",
    "plt.axvline(df['townsend'][c_idx].median(), color='gainsboro', linestyle='dashed', linewidth=1)\n",
    "min_ylim, max_ylim = plt.ylim()\n",
    "plt.text(df['townsend'][c_idx].median(), max_ylim*0.9, 'Med: {:.2f}'.format(df['townsend'][c_idx].median()))\n",
    "\n",
    "ax2 = plt.subplot(122)\n",
    "plt.hist(df['townsend'][p_idx], bins=50, color='tomato', edgecolor='none')\n",
    "ax2.title.set_text('Townsend DI in Colorectal ca')\n",
    "plt.axvline(df['townsend'][p_idx].median(), color='k', linestyle='dashed', linewidth=1)\n",
    "min_ylim, max_ylim = plt.ylim()\n",
    "plt.text(df['townsend'][p_idx].median(), max_ylim*0.9, 'Med: {:.2f}'.format(df['townsend'][p_idx].median()))\n",
    "\n",
    "plt.savefig('./figures/townsend_distributions.jpg', dpi=150)\n",
    "plt.show()"
   ]
  },
  {
   "cell_type": "code",
   "execution_count": null,
   "metadata": {
    "collapsed": true,
    "jupyter": {
     "outputs_hidden": true
    }
   },
   "outputs": [],
   "source": [
    "df2 = df[['age','townsend','bmi','pulse','sbp','dbp']]\n",
    "group = df['label_crc']\n",
    "plot_names = ['Age', 'Townsend DI', 'BMI', 'Pulse',' Systolic BP', 'Diastolic BP']\n",
    "\n",
    "sns.set_style('whitegrid')\n",
    "plt.subplots(2,3,figsize=(10,6)); k = 1\n",
    "for col in df2:\n",
    "    ax = plt.subplot(2, 3, k)\n",
    "    sns.set_palette(['mediumblue','r'])\n",
    "    sns.boxplot(data=df,x=group, y=col, width=0.4, boxprops=dict(alpha=.85), medianprops=dict(color=\"w\"), \\\n",
    "                fliersize=1, flierprops=dict(marker='o', markeredgecolor='grey'),linewidth=0.9).set(xlabel='', ylabel='')\n",
    "    ax.title.set_text(plot_names[k-1])\n",
    "    k += 1\n",
    "    \n",
    "plt.savefig('./figures/covariate_boxplots.jpg', dpi=150) \n",
    "plt.show()"
   ]
  },
  {
   "cell_type": "markdown",
   "metadata": {},
   "source": [
    "## Visualisations of the cancer-related variables"
   ]
  },
  {
   "cell_type": "code",
   "execution_count": null,
   "metadata": {},
   "outputs": [],
   "source": [
    "df2 = df[['age_at_death','n_cancer_dx','age_at_diagnosis','n_cancer_occs','tumour_hist','tumour_beh']][p_idx]\n",
    "df2.head()"
   ]
  },
  {
   "cell_type": "code",
   "execution_count": null,
   "metadata": {},
   "outputs": [],
   "source": [
    "# Distributions of age\n",
    "\n",
    "plt.subplots(2,2,figsize=(9,9))\n",
    "\n",
    "ax = plt.subplot(221)\n",
    "plt.hist(df2['age_at_diagnosis'], bins=50, color='tomato', edgecolor='none', density=True)\n",
    "ax.title.set_text('Age at diagnosis')\n",
    "plt.axvline(df2['age_at_diagnosis'].median(), color='k', linestyle='dashed', linewidth=1)\n",
    "min_ylim, max_ylim = plt.ylim()\n",
    "plt.text(df2['age_at_diagnosis'].median()*0.65, max_ylim*0.9, 'Med: {:.2f}'.format(df2['age_at_diagnosis'].median()))\n",
    "\n",
    "ax = plt.subplot(222)\n",
    "plt.hist(df2['age_at_death'], bins=50, color='tomato', edgecolor='none',  density=True)\n",
    "ax.title.set_text('Age at death')\n",
    "plt.axvline(df2['age_at_death'].median(), color='k', linestyle='dashed', linewidth=1)\n",
    "min_ylim, max_ylim = plt.ylim()\n",
    "plt.text(df2['age_at_death'].median()*0.80, max_ylim*0.9, 'Med: {:.2f}'.format(df2['age_at_death'].median()))\n",
    "\n",
    "labels = ['1', '2', '>=3']\n",
    "ns = []\n",
    "for i in range(1,3):\n",
    "    ns.append(len(df2.loc[(df2['n_cancer_dx'] == i)]))\n",
    "ns.append(len(df2.loc[(df2['n_cancer_dx'] >= 3)]))\n",
    "\n",
    "ax1 = plt.subplot(223)\n",
    "ax1.title.set_text('Number of cancer diagnoses')\n",
    "theme = plt.get_cmap('jet')\n",
    "ax1.set_prop_cycle(\"color\", [theme(1. * i / len(labels))\n",
    "                             for i in range(len(labels))])\n",
    "plt.pie(ns, labels=labels, autopct='%1.1f%%')\n",
    "circle = plt.Circle((0,0), 0.78, color='white')\n",
    "p=plt.gcf()\n",
    "p.gca().add_artist(circle)\n",
    "\n",
    "labels = ['1', '2', '3', '>=4']\n",
    "ns = []\n",
    "for i in range(1,4):\n",
    "    ns.append(len(df2.loc[(df2['n_cancer_occs'] == i)]))\n",
    "ns.append(len(df2.loc[(df2['n_cancer_occs'] >= 4)]))\n",
    "\n",
    "ax1 = plt.subplot(224)\n",
    "ax1.title.set_text('Number of cancer occurrences')\n",
    "theme = plt.get_cmap('jet')\n",
    "ax1.set_prop_cycle(\"color\", [theme(1. * i / len(labels))\n",
    "                             for i in range(len(labels))])\n",
    "plt.pie(ns, labels=labels, autopct='%1.1f%%')\n",
    "circle = plt.Circle((0,0), 0.78, color='white')\n",
    "p=plt.gcf()\n",
    "p.gca().add_artist(circle)\n",
    "\n",
    "plt.savefig('./figures/cancer_variable_distributions.jpg', dpi=150) \n",
    "plt.show()"
   ]
  },
  {
   "cell_type": "code",
   "execution_count": null,
   "metadata": {},
   "outputs": [],
   "source": [
    "# Visualise tumour behaviour\n",
    "\n",
    "beh_codes =[3, 2,6, 0, 1]\n",
    "labels = ['Malignant-primary site', 'Carcinoma in situ', 'Malignant-metastatic', 'Benign', 'Uncertain']\n",
    "p_ns = []\n",
    "for i in beh_codes:\n",
    "    p_ns.append(len(df.loc[(df['tumour_beh'] == i) & (df['label_crc'] == True)]))\n",
    "p_ns\n"
   ]
  },
  {
   "cell_type": "code",
   "execution_count": null,
   "metadata": {},
   "outputs": [],
   "source": [
    "fig1, ax1 = plt.subplots(figsize=(6,8))\n",
    "\n",
    "ax1.title.set_text('Tumour behaviour')\n",
    "theme = plt.get_cmap('jet')\n",
    "ax1.set_prop_cycle(\"color\", [theme(1. * i / len(labels))\n",
    "                             for i in range(len(labels))])\n",
    "plt.pie(p_ns, labels=labels, autopct='%1.1f%%')\n",
    "\n",
    "circle = plt.Circle((0,0), 0.75, color='white')\n",
    "p=plt.gcf()\n",
    "p.gca().add_artist(circle)\n",
    "\n",
    "plt.savefig('./figures/tumour_behaviour.jpg', dpi=150)\n",
    "plt.show()"
   ]
  },
  {
   "cell_type": "markdown",
   "metadata": {},
   "source": [
    "## Histograms"
   ]
  },
  {
   "cell_type": "code",
   "execution_count": null,
   "metadata": {},
   "outputs": [],
   "source": [
    "df2 = df[['age','townsend',\\\n",
    "          'bmi','pulse','dbp','sbp',\\\n",
    "          'wbc','rbc','hgb','hct','plt','lym','ualb','cr_urine','potas','sodium',\\\n",
    "          'apoa','apob','urea','chol','crp','cysc','hdl','igf1','ldl','shbg',\\\n",
    "          'tst','tprotein','tgly','vitd',\\\n",
    "          'age_at_diagnosis','n_cancer_dx','n_cancer_occs','age_at_death', \\\n",
    "          'baso', 'eos', 'mchc', 'mcv', 'mono', \\\n",
    "          'np', 'ret', 'pdw', 'pct', 'alt', 'alb', \\\n",
    "          'alp', 'ast', 'calc', 'cr_blood', 'dbi', 'ggt', \\\n",
    "          'glu', 'hgba1c', 'e2', 'phos', 'rf', 'tbil', 'phbv', \\\n",
    "          'cit', 'gln', 'gly', 'his', 'ile', 'bla', 'leu', 'mufa',\\\n",
    "          'phe', 'sph', 'tyr', 'val', 'dha_tfa', 'grip_l', 'grip_r', \\\n",
    "          'trunk_fat', 'bmr', 'adj_ts_ratio', 'ts_ratio_reg', 'unadj_ts_ratio', 'z_ts_ratio']]"
   ]
  },
  {
   "cell_type": "code",
   "execution_count": null,
   "metadata": {},
   "outputs": [],
   "source": [
    "df2.shape"
   ]
  },
  {
   "cell_type": "code",
   "execution_count": null,
   "metadata": {},
   "outputs": [],
   "source": [
    "plt.subplots(20,4,figsize=(13,70))\n",
    "\n",
    "k = 1\n",
    "for col in df2:\n",
    "    ax = plt.subplot(20,4,k)\n",
    "    plt.hist(df2[col][c_idx], bins=100,  alpha=0.5, edgecolor='none', range=[df2[col].quantile(0.0001),df2[col].quantile(0.995)], density=True, label='HC')\n",
    "    plt.hist(df2[col][p_idx], bins=100, alpha=0.5, edgecolor='none', range=[df2[col].quantile(0.0001),df2[col].quantile(0.995)], density=True, label='CRC')\n",
    "    ax.title.set_text(col)\n",
    "    min_ylim, max_ylim = plt.ylim()\n",
    "    plt.axvline(df2[col][c_idx].median(), color='whitesmoke', linestyle='dashed', linewidth=1.5)\n",
    "    plt.axvline(df2[col][p_idx].median(), color='whitesmoke', linestyle='dashed', linewidth=1.5)\n",
    "    plt.legend()\n",
    "    k += 1\n",
    "\n",
    "plt.savefig('./figures/biomarker_distributions.jpg', dpi=150) \n",
    "plt.show()"
   ]
  }
 ],
 "metadata": {
  "kernelspec": {
   "display_name": "Python 3 (Data Science)",
   "language": "python",
   "name": "python3__SAGEMAKER_INTERNAL__arn:aws:sagemaker:eu-west-2:712779665605:image/datascience-1.0"
  },
  "language_info": {
   "codemirror_mode": {
    "name": "ipython",
    "version": 3
   },
   "file_extension": ".py",
   "mimetype": "text/x-python",
   "name": "python",
   "nbconvert_exporter": "python",
   "pygments_lexer": "ipython3",
   "version": "3.7.10"
  }
 },
 "nbformat": 4,
 "nbformat_minor": 4
}
