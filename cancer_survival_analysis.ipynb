{
 "cells": [
  {
   "cell_type": "markdown",
   "metadata": {},
   "source": [
    "# Cox PH analysis"
   ]
  },
  {
   "cell_type": "markdown",
   "metadata": {},
   "source": [
    "### Environment setup"
   ]
  },
  {
   "cell_type": "code",
   "execution_count": null,
   "metadata": {},
   "outputs": [],
   "source": [
    "pip install lifelines"
   ]
  },
  {
   "cell_type": "code",
   "execution_count": null,
   "metadata": {},
   "outputs": [],
   "source": [
    "import pandas as pd\n",
    "import numpy as np\n",
    "import matplotlib.pyplot as plt\n",
    "import matplotlib.colors\n",
    "import seaborn as sns\n",
    "import math\n",
    "import scipy.stats as sp\n",
    "from sklearn.preprocessing import MinMaxScaler\n",
    "import statsmodels as sm\n",
    "from ukb_cox_proportional_hazards_utils import compute_is_cancer_at_recruitment, compute_survival_time_with_age_for_label, alcohol_consumption_categorize, smoking_categorize, convert_pvalue_to_asterisks\n",
    "from outlier_methods import detect_outliers, plot_distribution\n",
    "from lifelines import CoxPHFitter, KaplanMeierFitter\n",
    "from lifelines.plotting import plot_lifetimes\n",
    "from lifelines.calibration import survival_probability_calibration"
   ]
  },
  {
   "cell_type": "code",
   "execution_count": null,
   "metadata": {},
   "outputs": [],
   "source": [
    "s3_path = 's3://ukb-colorectal-cancer/analysis/'"
   ]
  },
  {
   "cell_type": "code",
   "execution_count": null,
   "metadata": {},
   "outputs": [],
   "source": [
    "# Cleaner variable names\n",
    "\n",
    "rename_mapping={\"age\": \"Age\", \"sex\": \"Sex\", \"ethnicity\": \"Ethnicity\", \"townsend\": \"Townsend\", \"alcohol\": \"Alcohol intake\", \"smoke\": \"Smoking status\", \n",
    "\"fasted\": \"Fasting status\", \"red_meat\": \"Processed / red meat intake\", \"oily_fish\": \"Oily fish intake\", \"edu_level\": \"University education\", \n",
    "\"aspirin\": \"Regular aspirin use\", \"health_rating\": \"Self-reported health rating\", \"family_cancer\": \"Family history of cancer\", \"hist_ibd\": \"IBD history\", \n",
    "\"hist_cvd\": \"CVD history\", \"hist_liverbil\": \"Liver/biliary disease history\", \"hist_dm\": \"Diabetes history\",\"met_mins\": \"Physical activity (MET)\", \"grip\": \"Hand grip\", \"met_rate\" : \"Metabolic rate\",\n",
    "\"trunk_to_leg\": \"Trunk-to-leg ratio\", \"waist_to_hip\": \"Waist-to-hip ratio\", \"bmi\": \"BMI\", \"height\": \"Height\",   \"impedance\": \"Impedance\", \"sleep_dur\": \"Duration of sleep\", \n",
    "\"sbp\": \"Systolic BP\", \"dbp\": \"Diastolic BP\", \"pulse\": \"Pulse\", \"hgb\": \"Haemoglobin\", \"hct\": \"Haematocrit %\", \"wbc\": \"White blood cell\", \"rbc\": \"Red blood cell\", \n",
    "\"plt\": \"Platelet\", \"lym\": \"Lymphocyte %\", \"mcv\": \"Mean corpuscular volume\", \"n_rbc\": \"Nucleated red blood cell %\", \"reti\": \"Reticulocyte %\",\n",
    "\"mono\": \"Monocyte %\", \"neut\": \"Neutrophill %\", \"eos\": \"Eosinophill %\", \"baso\": \"Basophill %\", \"u_sodium\": \"Sodium (urine)\", 'u_potas': \"Potassium (urine)\", \"u_cr\": \"Creatinine (urine)\",\n",
    "'apoa':\"Apolipoprotein A\", 'apob':\"Apolipoprotein B\",  'chol': \"Cholesterol\", 'hdl': \"HDL cholesterol\", 'ldl': \"LDL direct\", 'tgly': \"Triglycerides\", \n",
    "'urea': \"Urea\", 'crp': \"C-reactive protein\",'tprotein': \"Total protein\",'glu':\"Glucose\", 'phos': \"Phosphate\", 'alb':\"Albumin\",\n",
    "'alp': \"Alkaline phosphatase\", 'alt': \"Alanine aminotransaminase\", 'ast':\"Aspartate aminotransferase\",'ggt': \"Gamma glutamyltransferase\", 'urate': \"Urate\", \n",
    "'dbi': \"Direct bilirubin\", 'tbil': \"Total bilirubin\",'shbg': \"SHBG\", 'igf1': \"IGF-1\", 'vitd': \"Vitamin D\", 'cysc': \"Cystatin C\", 'calc':\"Calcium\", 'hba1c': \"HbA1c\", 'tst': \"Testosterone\"}"
   ]
  },
  {
   "cell_type": "markdown",
   "metadata": {},
   "source": [
    "### Prepare data"
   ]
  },
  {
   "cell_type": "code",
   "execution_count": null,
   "metadata": {},
   "outputs": [],
   "source": [
    "# Get cancer info\n",
    "\n",
    "df_merged = pd.read_csv(\"s3://ukb-colorectal-cancer/ukb_crc_longitudinal_v4.csv\", low_memory=False)\n",
    "df_merged[\"is_cancer-0\"] = df_merged.apply(compute_is_cancer_at_recruitment, axis=1)\n",
    "cancer_prevalent = df_merged[(df_merged[\"is_cancer-0\"]==True)].eid\n",
    "case_prevalent = df_merged[(df_merged[\"is_label-0\"]==True)].eid\n",
    "case_incident_0_1 = df_merged[(df_merged[\"is_label-0\"]==False) & (df_merged[\"is_label-1\"]==True)].eid\n",
    "case_incident_1_2 = df_merged[(df_merged[\"is_label-0\"]==False) & (df_merged[\"is_label-1\"]==False) & (df_merged[\"is_label-2\"]==True)].eid\n",
    "case_incident_2_3 = df_merged[(df_merged[\"is_label-0\"]==False) & (df_merged[\"is_label-1\"]==False) & (df_merged[\"is_label-2\"]==False) & (df_merged[\"is_label-3\"]==True)].eid\n",
    "case_incident_3_end = df_merged[(df_merged[\"label_first_occurred_date\"].notna()) & (df_merged.filter(like=\"is_label\").sum(axis=1)==0)].eid\n",
    "print(f\"Number of any cancer occurred before recruitment: {len(cancer_prevalent)}\")\n",
    "print(f\"Number of label occurred before recruitment (visit 0): {len(case_prevalent)}\")\n",
    "print(f\"Number of incidents occurred after recruitment (visit 0) before visit 1: {len(case_incident_0_1)}\")\n",
    "print(f\"Number of incidents occurred after visit 1 before visit 2: {len(case_incident_1_2)}\")\n",
    "print(f\"Number of incidents occurred after visit 2 before visit 3: {len(case_incident_2_3)}\")\n",
    "print(f\"Number of incidents occurred after visit 3: {len(case_incident_3_end)}\")\n",
    "print(f\"Number of participants: {len(df_merged.eid)}\")\n",
    "print(f\"Number of any cancer occurred before recruitment: {len(cancer_prevalent)}\")\n",
    "survival_df = df_merged.loc[~df_merged.eid.isin(cancer_prevalent), :]\n",
    "other_cancer_primary = survival_df[(survival_df[\"label_first_occurred_date\"].isna()) & (survival_df[\"n_cancer_occurred\"]>0)].eid\n",
    "print(f\"Number of participants who developed cancer other than CRC: {len(other_cancer_primary)}\")\n",
    "survival_df = survival_df.loc[~survival_df.eid.isin(other_cancer_primary), :]\n",
    "other_cancer_concurrent = survival_df[(survival_df[\"label_first_occurred_date\"].notna()) & (survival_df['cancer_first_occurred_date'].notna()) & (survival_df[\"label_first_occurred_date\"] != survival_df[\"cancer_first_occurred_date\"])].eid\n",
    "print(f\"Number of participants who had other concurrent cancers in addition to CRC: {len(other_cancer_concurrent)}\")\n",
    "survival_df = survival_df.loc[~survival_df.eid.isin(other_cancer_concurrent), :]\n",
    "print(f\"Number of participants left: {len(survival_df.eid)}\")"
   ]
  },
  {
   "cell_type": "code",
   "execution_count": null,
   "metadata": {},
   "outputs": [],
   "source": [
    "survival_df.label_class.value_counts()"
   ]
  },
  {
   "cell_type": "code",
   "execution_count": null,
   "metadata": {},
   "outputs": [],
   "source": [
    "# Calculate survival as a factor of age of diagnosis\n",
    "\n",
    "survival_df[[\"date_lfu\", \"date_death\", \"label_first_occurred_date\", \"visit_date-0\"]] = survival_df[[\"date_lfu\", \"date_death\", \"label_first_occurred_date\", \"visit_date-0\"]].apply(pd.to_datetime, errors='coerce') \n",
    "censoring_date = pd.to_datetime(\"29-02-2020\", format='%d-%m-%Y')\n",
    "survival_df[[\"event_\", \"age_\", \"obs_end_date\"]] = survival_df.apply(compute_survival_time_with_age_for_label, censoring_date=censoring_date, result_type=\"expand\", axis=1)\n",
    "print(survival_df.shape)\n",
    "nonbaseline_cols = [col for col in survival_df.columns if col.endswith((\"-1\", \"-2\", \"-3\"))]\n",
    "survival_df.drop(nonbaseline_cols, axis=\"columns\", inplace=True)\n",
    "survival_df.rename(columns=lambda x: x.split(\"-\")[0], inplace=True)\n",
    "print(survival_df.shape)"
   ]
  },
  {
   "cell_type": "code",
   "execution_count": null,
   "metadata": {},
   "outputs": [],
   "source": [
    "# Recode categorical variables\n",
    "\n",
    "survival_df[\"fasted\"] = survival_df[\"fasted\"].astype(float)\n",
    "survival_df[\"ethnicity\"] = survival_df[\"ethnicity\"].apply(lambda x: 'unk' if pd.isnull(x)==True else ('white' if x==1 else 'nonwhite'))\n",
    "survival_df[\"met_mins\"] = pd.qcut(survival_df.loc[:,\"met_mins\"], q=5, labels=range(1,6)).values.add_categories('unk').fillna(\"unk\")\n",
    "\n",
    "survival_df.replace({\n",
    "    \"redmeat_intake\": {np.nan: \"unk\"}, \"oily_fish_intake\": {np.nan: \"unk\"}, \"famhist_cancer\": {np.nan: \"unk\"}, \n",
    "    \"edu_university\": {np.nan: \"unk\"}, \"regular_aspirin\": {np.nan: \"unk\"}, \"crc_screening\": {np.nan: \"unk\"}, \n",
    "    \"health_rating\": {np.nan:\"unk\"}, \"alcohol\": {np.nan:\"unk\"}, \"smoke\": {np.nan:\"unk\"}, \n",
    "    \"diseasehist_ibd\": {np.nan:\"unk\"}, \"diseasehist_diabetes\": {np.nan:\"unk\"},\n",
    "    \"diseasehist_cardiovascular\": {np.nan:\"unk\"}, \"diseasehist_anyliverbiliary\": {np.nan:\"unk\"}}, inplace=True)\n",
    "\n",
    "survival_df['ethnicity'] = pd.Categorical(survival_df['ethnicity'], categories = [\"white\", \"nonwhite\", \"unk\"])\n",
    "survival_df[\"redmeat_intake\"] = pd.Categorical(survival_df[\"redmeat_intake\"], categories = [0,1,2,3,4,5,\"unk\"]) # could put group 3 as the reference?\n",
    "survival_df[\"oily_fish_intake\"] = pd.Categorical(survival_df[\"oily_fish_intake\"], categories = [0,1,2,3,4,5,\"unk\"]) # could put group 2 as the reference?\n",
    "survival_df[\"famhist_cancer\"] = pd.Categorical(survival_df[\"famhist_cancer\"], categories = [False, True,\"unk\"])\n",
    "survival_df[\"diseasehist_ibd\"] = pd.Categorical(survival_df[\"diseasehist_ibd\"], categories = [False, True,\"unk\"])\n",
    "survival_df[\"diseasehist_cardiovascular\"] = pd.Categorical(survival_df[\"diseasehist_cardiovascular\"], categories = [False, True,\"unk\"])\n",
    "survival_df[\"diseasehist_diabetes\"] = pd.Categorical(survival_df[\"diseasehist_diabetes\"], categories = [False, True,\"unk\"])\n",
    "survival_df[\"diseasehist_anyliverbiliary\"] = pd.Categorical(survival_df[\"diseasehist_anyliverbiliary\"], categories = [False, True,\"unk\"])\n",
    "survival_df[\"edu_university\"] = pd.Categorical(survival_df[\"edu_university\"], categories = [False, True,\"unk\"])\n",
    "survival_df[\"regular_aspirin\"] = pd.Categorical(survival_df[\"regular_aspirin\"], categories = [False, True,\"unk\"])\n",
    "survival_df[\"crc_screening\"] = pd.Categorical(survival_df[\"crc_screening\"], categories = [False, True,\"unk\"])\n",
    "survival_df[\"health_rating\"] = pd.Categorical(survival_df[\"health_rating\"], categories = [4,3,2,1,\"unk\"]) # 1-excellent, 2-good, 3-fair, 4-poor # could put group 2 as the reference?\n",
    "survival_df[\"alcohol\"] = pd.Categorical(survival_df[\"alcohol\"], categories = [0,1,2,3,4,5,6,\"unk\"])\n",
    "survival_df['smoke'].replace(4,'unk', inplace=True)\n",
    "survival_df[\"smoke\"] = pd.Categorical(survival_df[\"smoke\"], categories = [0,1,2,3,\"unk\"])\n",
    "survival_df[\"met_mins\"] = pd.Categorical(survival_df[\"met_mins\"], categories = [1,2,3,4,5,\"unk\"])"
   ]
  },
  {
   "cell_type": "code",
   "execution_count": null,
   "metadata": {},
   "outputs": [],
   "source": [
    "# Select columns\n",
    "\n",
    "selected_cols = [\"age\", \"sex\", \"ethnicity\", \"townsend\", \"alcohol\", \"smoke\", \"fasted\", \n",
    "                 \"redmeat_intake\", \"oily_fish_intake\", \"famhist_cancer\", \"edu_university\", \"regular_aspirin\",  \"health_rating\", \n",
    "                 \"diseasehist_ibd\", 'diseasehist_cardiovascular', 'diseasehist_diabetes','diseasehist_anyliverbiliary', \"met_mins\",\"hgrip\", \"tlr\", \"whr\", \"bmi\", \"height\", \"met_rate\", \"impedance\", \"sleep_dur\", \n",
    "                 \"sbp\", \"dbp\", \"pulse\", \"hgb\", \"hct\", \"wbc\", \"rbc\", \"plt\", \"lym\", \"mcv\", \"mono\", \"neut\", \"eos\", \"baso\", \"n_rbc\", \"reti\",\n",
    "                 \"u_sodium\", 'u_potas', \"u_cr\",'apoa', 'apob',  'chol', 'hdl', 'ldl', 'tgly', 'urea', 'crp','tprotein',\n",
    "                 'glu', 'phos', 'alb', 'alp', 'alt', 'ast', 'ggt', 'urate', 'd_bil', 't_bil','shbg', 'igf1', 'vitd', 'cysc', 'calc',  'hba1c', 'tst'] \n",
    "# Removed \"crc_screening\",\n",
    "\n",
    "full_df = survival_df.loc[:, [\"event_\", \"age_\"] + [col for col in survival_df.columns if col.split(\"-\")[0] in selected_cols]]"
   ]
  },
  {
   "cell_type": "code",
   "execution_count": null,
   "metadata": {},
   "outputs": [],
   "source": [
    "# Remove NaNs\n",
    "\n",
    "print(full_df.shape)\n",
    "print(f\"Number of rows with missing values: {full_df.isna().any(axis=1).sum()}\")\n",
    "full_df.isna().sum(axis=0).sort_values(ascending=False).head(20)\n",
    "full_df.dropna(inplace=True)\n",
    "print(full_df.shape)\n",
    "print(f\"Number of rows with missing values: {full_df.isna().any(axis=1).sum()}\")\n",
    "\n",
    "full_df.event_.value_counts().to_dict()"
   ]
  },
  {
   "cell_type": "code",
   "execution_count": null,
   "metadata": {},
   "outputs": [],
   "source": [
    "# Remove outliers\n",
    "\n",
    "continuous_vars = [\"hgrip\", \"tlr\", \"whr\",  \"height\", \"met_rate\", \"impedance\", \"sleep_dur\", \n",
    "                 \"sbp\", \"dbp\", \"pulse\", \"bmi\", \"hgb\", \"hct\", \"wbc\", \"rbc\", \"plt\", \"lym\", \"mcv\", \"mono\", \"neut\", \"eos\", \"baso\", \"n_rbc\", \"reti\",\n",
    "                 \"u_sodium\", 'u_potas', \"u_cr\",'apoa', 'apob',  'chol', 'hdl', 'ldl', 'tgly', 'urea', 'crp','tprotein',\n",
    "                 'glu', 'phos', 'alb', 'alp', 'alt', 'ast', 'ggt', 'urate', 'd_bil', 't_bil','shbg', 'igf1', 'vitd', 'cysc', 'calc',  'hba1c', 'tst']\n",
    "\n",
    "outliers = []\n",
    "for i, col in enumerate(continuous_vars):\n",
    "    outliers_ = detect_outliers(full_df, col, method=\"percentile\", percentile_threshold=0.001) # 0.005\n",
    "    outliers += list(outliers_)\n",
    "    \n",
    "outliers = np.unique(outliers)\n",
    "print(f\"Number of outliers: {len(outliers)}\")\n",
    "\n",
    "full_df.drop(outliers, axis='index', inplace=True)\n",
    "print(full_df.shape)"
   ]
  },
  {
   "cell_type": "code",
   "execution_count": null,
   "metadata": {},
   "outputs": [],
   "source": [
    "full_df.event_.value_counts().to_dict()"
   ]
  },
  {
   "cell_type": "code",
   "execution_count": null,
   "metadata": {},
   "outputs": [],
   "source": [
    "full_df.columns = ['event_', 'age_', 'sex', 'townsend', 'ethnicity', 'bmi', 'wbc', 'rbc',\n",
    "       'hgb', 'hct', 'plt', 'lym', 'u_cr', 'u_potas', 'u_sodium', 'apoa',\n",
    "       'apob', 'urea', 'chol', 'crp', 'cysc', 'hdl', 'igf1', 'ldl', 'shbg',\n",
    "       'tst', 'tprotein', 'tgly', 'vitd', 'pulse', 'dbp', 'sbp', 'age',\n",
    "       'oily_fish', 'health_rating', 'height',\n",
    "       'family_cancer', 'hist_cvd', 'hist_dm', 'hist_ibd', 'hist_liverbil', 'edu_level',\n",
    "       'aspirin', 'red_meat', 'fasted', 'alcohol', 'smoke',\n",
    "       'sleep_dur', 'met_mins', 'met_rate', 'impedance', 'mcv', 'mono', 'neut',\n",
    "       'eos', 'baso', 'n_rbc', 'reti', 'alb', 'alp', 'alt', 'ast', 'dbi',\n",
    "       'calc', 'ggt', 'glu', 'hba1c', 'phos', 'tbil', 'urate', 'grip', 'waist_to_hip',\n",
    "       'trunk_to_leg']"
   ]
  },
  {
   "cell_type": "code",
   "execution_count": null,
   "metadata": {},
   "outputs": [],
   "source": [
    "full_df.to_csv(s3_path+'crc_dataset_cox.csv', index=False)"
   ]
  },
  {
   "cell_type": "markdown",
   "metadata": {},
   "source": [
    "### Forward feature selection"
   ]
  },
  {
   "cell_type": "markdown",
   "metadata": {},
   "source": [
    "##### Fitting each variable separately on the training dataset, and selecting variables that have a p-value<0.10 (more liberal threshold)"
   ]
  },
  {
   "cell_type": "code",
   "execution_count": null,
   "metadata": {},
   "outputs": [],
   "source": [
    "df = pd.read_csv(s3_path+'crc_dataset_cox.csv', dtype={'sex':'category','fasted':'category','ethnicity':'category', 'oily_fish':'category', 'health_rating':'category', 'family_cancer':'category',\n",
    "                                                      'hist_cvd':'category','hist_dm':'category', 'hist_ibd':'category','hist_liverbil':'category',\n",
    "                                                      'edu_level':'category','aspirin':'category','red_meat':'category','alcohol':'category',\n",
    "                                                      'smoke':'category', 'met_mins':'category'},low_memory=False)"
   ]
  },
  {
   "cell_type": "code",
   "execution_count": null,
   "metadata": {},
   "outputs": [],
   "source": [
    "from sklearn.model_selection import train_test_split\n",
    "\n",
    "X_train, X_test = train_test_split(df, test_size=0.2, random_state=1, stratify=df[\"event_\"])\n",
    "\n",
    "X_train.to_csv(s3_path+'crc_dataset_cox_train.csv', index=False)\n",
    "X_test.to_csv(s3_path+'crc_dataset_cox_test.csv', index=False)"
   ]
  },
  {
   "cell_type": "code",
   "execution_count": null,
   "metadata": {},
   "outputs": [],
   "source": [
    "cph = CoxPHFitter()\n",
    "cols = df.drop(['event_', 'age_'], axis=1).columns.to_list()\n",
    "\n",
    "mdl_name = []\n",
    "var_keep = []\n",
    "c_idx = []\n",
    "aic = []\n",
    "p_val = []\n",
    "var_hr = []\n",
    "var_se = []\n",
    "var_pval = []"
   ]
  },
  {
   "cell_type": "code",
   "execution_count": null,
   "metadata": {},
   "outputs": [],
   "source": [
    "for c in cols:\n",
    "    cph.fit(X_train, duration_col='age_', event_col='event_', formula=c, show_progress=False) \n",
    "    mdl_name.append(c)\n",
    "    c_idx.append(round(cph.concordance_index_,4))\n",
    "    aic.append(round(cph.AIC_partial_,2))\n",
    "    summary = cph.summary[\"p\"].to_dict()\n",
    "    p_val.append(round(min(list(summary.values())),3))\n",
    "    print('Model:', c, 'C-index:', c_idx[-1],'AIC:', aic[-1], 'p:', p_val[-1])\n",
    "    if p_val[-1] < 0.1:\n",
    "        var_keep.append(c)\n",
    "        var_hr.append(cph.summary[\"coef\"][0])\n",
    "        var_se.append(1.96*(cph.summary[\"se(coef)\"][0]))\n",
    "        var_pval.append(p_val[-1])"
   ]
  },
  {
   "cell_type": "code",
   "execution_count": null,
   "metadata": {},
   "outputs": [],
   "source": [
    "# Get univariate parameters for the plots\n",
    "\n",
    "var_keep = [v for _, v in sorted(zip(var_hr, var_keep))] # put in descending order\n",
    "var_se = [v for _, v in sorted(zip(var_hr, var_se))]\n",
    "var_pval = [v for _, v in sorted(zip(var_hr, var_pval))]\n",
    "var_hr.sort()\n",
    "\n",
    "a = []\n",
    "for v in var_keep:\n",
    "    if '[' in v:\n",
    "        v = v[:v.index('[')]\n",
    "    a.append(v)\n",
    "var_keep = a\n",
    "var_names = [rename_mapping[v] for v in var_keep]\n",
    "\n",
    "sz = []\n",
    "for p in var_pval:\n",
    "    if p > 0.05:\n",
    "        sz.append(5) \n",
    "    elif p < 0.001:\n",
    "        sz.append(60)\n",
    "    elif p < 0.01:\n",
    "        sz.append(40)\n",
    "    elif p < 0.05:\n",
    "        sz.append(20)     \n"
   ]
  },
  {
   "cell_type": "code",
   "execution_count": null,
   "metadata": {},
   "outputs": [],
   "source": [
    "# Plot log(HR) of the selected features in univariate model\n",
    "\n",
    "theme = matplotlib.colors.LinearSegmentedColormap.from_list(\"\", ['blue','gainsboro','red'])\n",
    "a = [theme(1. * i / len(var_keep)) \n",
    "    for i in range(len(var_keep))]\n",
    "a = [list(i[:3]) for i in a]\n",
    "\n",
    "fig, ax = plt.subplots(figsize=(3,12))\n",
    "for i in range(len(var_hr)):\n",
    "    plt.plot([var_hr[i]-var_se[i], var_hr[i]+var_se[i]],[i, i], color=a[i])\n",
    "ax.set_yticks(np.arange(len(var_hr)))\n",
    "ax.set_yticklabels(var_keep)\n",
    "plt.xlabel('log(HR) 95% CI')\n",
    "plt.axvline(x = 0, color = 'silver', linestyle='--')\n",
    "plt.scatter(var_hr, range(len(var_hr)), s=60, c=a) # plt.scatter(hr, range(len(hr)), s=60, c=a)\n",
    "ax.set_yticklabels(var_names)\n",
    "plt.savefig('./figures/paper_all_hazard_ratios.jpg', dpi=150) \n",
    "plt.show()\n"
   ]
  },
  {
   "cell_type": "code",
   "execution_count": null,
   "metadata": {},
   "outputs": [],
   "source": [
    "var_keep = var_keep + ['event_', 'age_']\n",
    "X_train = X_train[var_keep].copy(deep=True)\n",
    "X_test = X_test[var_keep].copy(deep=True)\n",
    "\n",
    "X_train.to_csv(s3_path+'crc_dataset_cox_train_fs.csv', index=False)\n",
    "X_test.to_csv(s3_path+'crc_dataset_cox_test_fs.csv', index=False)"
   ]
  },
  {
   "cell_type": "markdown",
   "metadata": {},
   "source": [
    "### VIF - Remove correlated features"
   ]
  },
  {
   "cell_type": "markdown",
   "metadata": {},
   "source": [
    "##### Find and remove variables correlated with each other, to reduce multicollinearity, and clarify the contribution of each predictor to the model based on variance inflation factor >10."
   ]
  },
  {
   "cell_type": "code",
   "execution_count": null,
   "metadata": {},
   "outputs": [],
   "source": [
    "from statsmodels.stats.outliers_influence import variance_inflation_factor\n",
    "\n",
    "df = pd.read_csv(s3_path+'crc_dataset_cox_train_fs.csv', dtype={'sex':'category','fasted':'category','oily_fish':'category', 'health_rating':'category', 'family_cancer':'category',\n",
    "                                                      'hist_dm':'category', 'hist_liverbil':'category','aspirin':'category','red_meat':'category','alcohol':'category',\n",
    "                                                      'smoke':'category', 'met_mins':'category'}, low_memory=False)"
   ]
  },
  {
   "cell_type": "code",
   "execution_count": null,
   "metadata": {},
   "outputs": [],
   "source": [
    "df.replace('unk',np.NaN, inplace=True)\n",
    "df.replace(['False', 'True'],[0,1], inplace=True)\n",
    "\n",
    "for c in df:\n",
    "    df[c] = df[c].astype(float)\n",
    "df.dropna(inplace=True)"
   ]
  },
  {
   "cell_type": "code",
   "execution_count": null,
   "metadata": {},
   "outputs": [],
   "source": [
    "# Calculate VIF\n",
    "\n",
    "cols = ['sex', 'bmi', 'wbc', 'rbc', 'hgb', 'lym', 'u_cr', 'u_potas',\n",
    "       'u_sodium', 'urea', 'chol', 'crp', 'hdl', 'igf1', 'shbg',\n",
    "       'tgly', 'vitd', 'pulse', 'dbp', 'age', 'oily_fish',\n",
    "       'health_rating', 'family_cancer', 'hist_dm', 'hist_liverbil',\n",
    "       'aspirin', 'red_meat', 'fasted', 'alcohol', 'smoke', 'met_mins',\n",
    "        'mono', 'baso', 'reti', 'alt',\n",
    "       'calc', 'ggt', 'phos', 'tbil', 'urate', 'grip', 'waist_to_hip',\n",
    "       'trunk_to_leg']\n",
    "var_keep = cols\n",
    "\n",
    "# (CHOL - ldl) (LYM - neut) (RBC - hct) (TBIL - dbi) (HDL - apoa) (SEX -  tst, impedance, met_rate,height)\n",
    "\n",
    "vif_df = pd.DataFrame()\n",
    "vif_df[\"variable\"] = df[cols].columns\n",
    "\n",
    "X = df[cols].copy(deep=True)\n",
    "X['intercept'] = 1\n",
    "vif = [variance_inflation_factor(X.values, i) for i in range(X.shape[1])]\n",
    "vif_df['vif'] = vif[:-1]"
   ]
  },
  {
   "cell_type": "code",
   "execution_count": null,
   "metadata": {},
   "outputs": [],
   "source": [
    "vif_df.sort_values(by='vif',ascending=False)[:15]"
   ]
  },
  {
   "cell_type": "code",
   "execution_count": null,
   "metadata": {},
   "outputs": [],
   "source": [
    "# Plot dendrogram\n",
    "\n",
    "from scipy.cluster.hierarchy import linkage, dendrogram, fcluster, set_link_color_palette\n",
    "from scipy.spatial.distance import squareform\n",
    "\n",
    "cols = df.drop(['age_','event_'],axis=1).columns\n",
    "col_names = [rename_mapping[c] for c in cols]\n",
    "\n",
    "set_link_color_palette(['darkmagenta','navy','royalblue','lightseagreen','limegreen','gold','darkorange','orangered']) # 9\n",
    "corrs = df.drop(['age_','event_'], axis=1).corr()\n",
    "plt.figure(figsize=(2,10))\n",
    "dissimilarity = 1 - abs(corrs)\n",
    "Z = linkage(squareform(dissimilarity), 'ward')\n",
    "\n",
    "R1 = dendrogram(Z, labels=cols, orientation='left', color_threshold=1.12, leaf_font_size=10, count_sort='descending', above_threshold_color='silver'); # leaf_rotation=90, distance_sort='descending',);\n",
    "R = dendrogram(Z, labels=col_names, orientation='left', color_threshold=1.12, leaf_font_size=10, count_sort='descending', above_threshold_color='silver') #distance_sort='descending', \n",
    "plt.show()"
   ]
  },
  {
   "cell_type": "code",
   "execution_count": null,
   "metadata": {},
   "outputs": [],
   "source": [
    "# Plot r-map in the leaf order of the dendrogram\n",
    "\n",
    "new_order = R1['ivl']\n",
    "new_order.reverse()\n",
    "col_names = [rename_mapping[c] for c in new_order]\n",
    "\n",
    "corrs = df[new_order].corr()\n",
    "pval = df[new_order].corr(method=lambda x, y: sp.pearsonr(x, y)[1]) - np.eye(*corrs.shape)\n",
    "\n",
    "mask = np.triu(np.ones_like(corrs, dtype=bool))\n",
    "plt.figure(figsize=(14,14))\n",
    "sns.heatmap(corrs, annot=False, annot_kws = {'size':9},fmt='.2f', mask=mask, xticklabels=col_names, yticklabels=col_names, \\\n",
    "            square=True, cbar_kws={\"shrink\": 0.5}, cmap='bwr', vmin=-0.6, vmax=0.6).set(title='Intercorrelations - rmap')\n",
    "\n",
    "#plt.savefig('./figures/biomarker_rmap_everyone.jpg', dpi=150) \n",
    "plt.show()"
   ]
  },
  {
   "cell_type": "code",
   "execution_count": null,
   "metadata": {},
   "outputs": [],
   "source": [
    "df = pd.read_csv(s3_path+'crc_dataset_cox_train_fs.csv', dtype={'sex':'category','fasted':'category','oily_fish':'category', 'health_rating':'category', 'family_cancer':'category',\n",
    "                                                      'hist_dm':'category', 'hist_liverbil':'category','aspirin':'category','red_meat':'category','alcohol':'category',\n",
    "                                                      'smoke':'category', 'met_mins':'category'},low_memory=False)\n",
    "var_keep = var_keep + ['event_', 'age_']\n",
    "df = df[var_keep].copy(deep=True)\n",
    "df.to_csv(s3_path+'crc_dataset_cox_train_fs_vif.csv', index=False)\n",
    "\n",
    "df = pd.read_csv(s3_path+'crc_dataset_cox_test_fs.csv', dtype={'sex':'category','fasted':'category','oily_fish':'category', 'health_rating':'category', 'family_cancer':'category',\n",
    "                                                      'hist_dm':'category', 'hist_liverbil':'category','aspirin':'category','red_meat':'category','alcohol':'category',\n",
    "                                                      'smoke':'category', 'met_mins':'category'},low_memory=False)\n",
    "df = df[var_keep].copy(deep=True)\n",
    "df.to_csv(s3_path+'crc_dataset_cox_test_fs_vif.csv', index=False)"
   ]
  },
  {
   "cell_type": "markdown",
   "metadata": {},
   "source": [
    "### Backward elimination"
   ]
  },
  {
   "cell_type": "markdown",
   "metadata": {},
   "source": [
    "##### Start by fitting the all of the selected features, and remove features that don't significantly contribute to the model using p > 0.05, starting with the lowest significance in an ascending order."
   ]
  },
  {
   "cell_type": "code",
   "execution_count": null,
   "metadata": {},
   "outputs": [],
   "source": [
    "df = pd.read_csv(s3_path+'crc_dataset_cox_train_fs_vif.csv', dtype={'sex':'category','fasted':'category','oily_fish':'category', 'health_rating':'category', 'family_cancer':'category',\n",
    "                                                      'hist_dm':'category', 'hist_liverbil':'category','aspirin':'category','red_meat':'category','alcohol':'category',\n",
    "                                                      'smoke':'category', 'met_mins':'category'}, low_memory=False)\n",
    "df[\"health_rating\"] = pd.Categorical(df[\"health_rating\"], categories = ['4','3','2','1',\"unk\"])"
   ]
  },
  {
   "cell_type": "code",
   "execution_count": null,
   "metadata": {},
   "outputs": [],
   "source": [
    "# Initiate\n",
    "\n",
    "cols = df.drop(['event_','age_'],axis=1).columns # all features from the forward feature selection step\n",
    "mdl_cols = cols.to_list()\n",
    "mdl_formula = \" + \".join(mdl_cols)\n",
    "\n",
    "cph = CoxPHFitter()\n",
    "cph.fit(df, duration_col='age_', event_col='event_', formula=mdl_formula, show_progress=False) \n",
    "print('Model:', mdl_formula)\n",
    "print('-- C-index:', round(cph.concordance_index_,6),'AIC:', round(cph.AIC_partial_,2))\n",
    "\n",
    "summary = cph.summary[\"p\"].to_dict()\n",
    "mdl_vars = list(summary.keys())\n",
    "mdl_pvals = np.array(list(summary.values()))\n",
    "\n",
    "vnames = []\n",
    "min_p = []\n",
    "for v in mdl_vars: # get the minimum p-value of each variable\n",
    "    if '[' in v:\n",
    "        i = v.index('[')\n",
    "        vname = v[:i]\n",
    "    else:\n",
    "        vname = v\n",
    "    vnames.append(vname)   \n",
    "    idx = [mdl_vars.index(i) for i in mdl_vars if i.startswith(vname)]\n",
    "    min_p.append(np.min(mdl_pvals[idx]))\n",
    "\n",
    "while np.max(min_p) > 0.0499: # whilst there are non-significant variables not accepting marginal effects\n",
    "    \n",
    "    idx = np.argmax(min_p)\n",
    "    mdl_cols.remove(vnames[idx]) # remove that variable from the list and rerun the model\n",
    "    print('Removing', vnames[idx])\n",
    "    \n",
    "    mdl_formula = \" + \".join(mdl_cols)\n",
    "\n",
    "    cph.fit(df, duration_col='age_', event_col='event_', formula=mdl_formula, show_progress=False) \n",
    "    print('Model:', mdl_formula)\n",
    "    print('-- C-index:', round(cph.concordance_index_,6),'AIC:', round(cph.AIC_partial_,2))\n",
    "    summary = cph.summary[\"p\"].to_dict()\n",
    "    mdl_vars = list(summary.keys())\n",
    "    mdl_pvals = np.array(list(summary.values()))\n",
    "\n",
    "    vnames = []\n",
    "    min_p = []\n",
    "    for v in mdl_vars:\n",
    "        if '[' in v:\n",
    "            i = v.index('[')\n",
    "            vname = v[:i]\n",
    "        else:\n",
    "            vname = v\n",
    "        vnames.append(vname)   \n",
    "        idx = [mdl_vars.index(i) for i in mdl_vars if i.startswith(vname)]\n",
    "        min_p.append(np.min(mdl_pvals[idx]))\n",
    "    "
   ]
  },
  {
   "cell_type": "code",
   "execution_count": null,
   "metadata": {},
   "outputs": [],
   "source": [
    "cph.print_summary(decimals=4)"
   ]
  },
  {
   "cell_type": "code",
   "execution_count": null,
   "metadata": {},
   "outputs": [],
   "source": [
    "# Test performance on the test set\n",
    "\n",
    "df_test = pd.read_csv(s3_path+'crc_dataset_cox_test_fs_vif.csv', dtype={'sex':'category','fasted':'category','oily_fish':'category', 'health_rating':'category', 'family_cancer':'category',\n",
    "                                                      'hist_dm':'category', 'hist_liverbil':'category','aspirin':'category','red_meat':'category','alcohol':'category',\n",
    "                                                      'smoke':'category', 'met_mins':'category'}, low_memory=False)\n",
    "cph = CoxPHFitter()\n",
    "cph.fit(df_test, duration_col='age_', event_col='event_', formula=\" + \".join(mdl_cols), show_progress=False) \n",
    "print('-- C-index:', round(cph.concordance_index_,6),'AIC:', round(cph.AIC_partial_,2))"
   ]
  },
  {
   "cell_type": "code",
   "execution_count": null,
   "metadata": {},
   "outputs": [],
   "source": [
    "mdl_cols = mdl_cols + ['event_', 'age_']\n",
    "df = df[mdl_cols].copy(deep=True)\n",
    "df.to_csv(s3_path+'crc_dataset_cox_train_fs_vif_bs.csv', index=False)"
   ]
  },
  {
   "cell_type": "markdown",
   "metadata": {},
   "source": [
    "### Plot results"
   ]
  },
  {
   "cell_type": "code",
   "execution_count": null,
   "metadata": {},
   "outputs": [],
   "source": [
    "df = pd.read_csv(s3_path+'crc_dataset_cox_train_fs_vif_bs.csv', dtype={'sex':'category','health_rating':'category', 'family_cancer':'category',\n",
    "                                                      'aspirin':'category','alcohol':'category','smoke':'category'}, low_memory=False)"
   ]
  },
  {
   "cell_type": "code",
   "execution_count": null,
   "metadata": {},
   "outputs": [],
   "source": [
    "cph = CoxPHFitter()\n",
    "cols = df.drop(['event_','age_'],axis=1).columns \n",
    "mdl_cols = cols.to_list()\n",
    "\n",
    "cph.fit(df, duration_col='age_', event_col='event_', formula=\" + \".join(mdl_cols), show_progress=False)\n",
    "summary = cph.summary[\"p\"].to_dict()\n",
    "mdl_vars = list(summary.keys())\n",
    "mdl_pvals = np.array(list(summary.values()))"
   ]
  },
  {
   "cell_type": "code",
   "execution_count": null,
   "metadata": {},
   "outputs": [],
   "source": [
    "# Default plot from lifelines log(HR) plot\n",
    "\n",
    "plt.figure(figsize=(5,5))\n",
    "ax = cph.plot()# hazard_ratios=True\n",
    "plt.show()"
   ]
  },
  {
   "cell_type": "code",
   "execution_count": null,
   "metadata": {},
   "outputs": [],
   "source": [
    "# HR plot\n",
    "\n",
    "plt.figure(figsize=(5,5))\n",
    "ax = cph.plot(hazard_ratios=True)\n",
    "plt.show()"
   ]
  },
  {
   "cell_type": "code",
   "execution_count": null,
   "metadata": {},
   "outputs": [],
   "source": [
    "# Get stats for the plots\n",
    "\n",
    "hr = cph.summary[\"coef\"].to_dict() # get values to plot\n",
    "mdl_vars = list(hr.keys())\n",
    "hr = cph.summary[\"coef\"]\n",
    "se = cph.summary[\"se(coef)\"]\n",
    "pval = cph.summary[\"p\"]\n",
    "\n",
    "idx = [i for i in range(len(pval)) if pval[i] < 0.05  and 'T.unk' not in mdl_vars[i]] # threshold by p\n",
    "pval = [pval[i] for i in idx]\n",
    "hr = [hr[i] for i in idx]\n",
    "se = np.array([1.96*se[i] for i in idx])\n",
    "mdl_vars = [mdl_vars[i] for i in idx]\n",
    "\n",
    "mdl_vars = [v for _, v in sorted(zip(hr, mdl_vars))] # put in descending order\n",
    "se = [v for _, v in sorted(zip(hr, se))]\n",
    "pval = [v for _, v in sorted(zip(hr, pval))]\n",
    "hr.sort()\n",
    "\n",
    "a = []\n",
    "for v in mdl_vars:\n",
    "    if '[' in v:\n",
    "        v = v[:v.index('[')]\n",
    "    a.append(v)\n",
    "mdl_vars = a\n",
    "var_names = [rename_mapping[v] for v in mdl_vars]\n",
    "\n",
    "sz = []\n",
    "for p in pval:\n",
    "    if p > 0.05:\n",
    "        sz.append(5) \n",
    "    elif p < 0.001:\n",
    "        sz.append(60)\n",
    "    elif p < 0.01:\n",
    "        sz.append(40)\n",
    "    elif p < 0.05:\n",
    "        sz.append(20)     "
   ]
  },
  {
   "cell_type": "code",
   "execution_count": null,
   "metadata": {},
   "outputs": [],
   "source": [
    "# Plot using a risk gradient\n",
    "\n",
    "theme = matplotlib.colors.LinearSegmentedColormap.from_list(\"\", ['blue','gainsboro','red'])\n",
    "a = [theme(1. * i / len(mdl_vars)) \n",
    "    for i in range(len(mdl_vars))]\n",
    "a = [list(i[:3]) for i in a]\n",
    "\n",
    "fig, ax = plt.subplots(figsize=(5,5))\n",
    "for i in range(len(hr)):\n",
    "    plt.plot([hr[i]-se[i], hr[i]+se[i]],[i, i], color=a[i])\n",
    "ax.set_yticks(np.arange(len(hr)))\n",
    "ax.set_yticklabels(mdl_vars)\n",
    "plt.xlabel('log(HR) 95% CI')\n",
    "plt.axvline(x = 0, color = 'silver', linestyle='--')\n",
    "plt.scatter(hr, range(len(hr)), s=60\n",
    "            , c=a) # plt.scatter(hr, range(len(hr)), s=60, c=a)\n",
    "ax.set_yticklabels(var_names)\n",
    "plt.show()"
   ]
  },
  {
   "cell_type": "code",
   "execution_count": null,
   "metadata": {},
   "outputs": [],
   "source": [
    "df = pd.read_csv(s3_path+'crc_dataset_cox_train_fs_vif_bs.csv', dtype={'sex':'category','health_rating':'category', 'family_cancer':'category',\n",
    "                                                      'aspirin':'category','alcohol':'category','smoke':'category'}, low_memory=False)"
   ]
  },
  {
   "cell_type": "code",
   "execution_count": null,
   "metadata": {},
   "outputs": [],
   "source": [
    "# Changing categories in string format to integers (e.g. '2' to 2)\n",
    "\n",
    "df.replace(['False', 'True','0','1','2','3','4','5','6','unk'],[0,1,0,1,2,3,4,5,6,9], inplace=True)\n",
    "df['health_rating'] = pd.Categorical(df['health_rating'], categories = [1,2,3,4,9])\n",
    "df['family_cancer'] = pd.Categorical(df['family_cancer'], categories = [0,1,9])\n",
    "df['aspirin'] = pd.Categorical(df['aspirin'], categories = [0,1,9])\n",
    "df['alcohol'] = pd.Categorical(df['alcohol'], categories = [0,1,2,3,4,5,6,9])\n",
    "df['smoke'] = pd.Categorical(df['smoke'], categories = [0,1,2,3,4,9])"
   ]
  },
  {
   "cell_type": "code",
   "execution_count": null,
   "metadata": {},
   "outputs": [],
   "source": [
    "# Kaplan Meier survival plots\n",
    "\n",
    "cph = CoxPHFitter()\n",
    "cph.fit(df, duration_col='age_', event_col='event_', show_progress=False)\n",
    "\n",
    "cph.plot_partial_effects_on_outcome(covariates=['waist_to_hip'], values=[0.7,0.8,0.9,1,1.1], cmap='viridis', plot_baseline=False) \n",
    "plt.xlim([60,85])\n",
    "plt.show()\n"
   ]
  },
  {
   "cell_type": "code",
   "execution_count": null,
   "metadata": {},
   "outputs": [],
   "source": [
    "plt.figure(figsize=(5,5))\n",
    "cph.plot_partial_effects_on_outcome(covariates=['alcohol'], values=[0,1,2,3,4,5,6], cmap='viridis', plot_baseline=False,figsize=(5,5))\n",
    "plt.xlim([60,85])\n",
    "plt.show()"
   ]
  },
  {
   "cell_type": "code",
   "execution_count": null,
   "metadata": {},
   "outputs": [],
   "source": [
    "plt.figure(figsize=(5,5))\n",
    "cph.plot_partial_effects_on_outcome(covariates=['sex'], values=[0,1], cmap='viridis', plot_baseline=False,figsize=(5,5)) \n",
    "plt.xlim([60,85])\n",
    "plt.show()"
   ]
  },
  {
   "cell_type": "code",
   "execution_count": null,
   "metadata": {},
   "outputs": [],
   "source": [
    "plt.figure(figsize=(5,5))\n",
    "cph.plot_partial_effects_on_outcome(covariates=['family_cancer'], values=[0,1], cmap='coolwarm', plot_baseline=False,figsize=(5,5)) \n",
    "plt.xlim([60,85])\n",
    "plt.show()"
   ]
  }
 ],
 "metadata": {
  "kernelspec": {
   "display_name": "Python 3.9.7 64-bit",
   "language": "python",
   "name": "python3"
  },
  "language_info": {
   "codemirror_mode": {
    "name": "ipython",
    "version": 3
   },
   "file_extension": ".py",
   "mimetype": "text/x-python",
   "name": "python",
   "nbconvert_exporter": "python",
   "pygments_lexer": "ipython3",
   "version": "3.9.7"
  },
  "orig_nbformat": 4,
  "vscode": {
   "interpreter": {
    "hash": "aee8b7b246df8f9039afb4144a1f6fd8d2ca17a180786b69acc140d282b71a49"
   }
  }
 },
 "nbformat": 4,
 "nbformat_minor": 2
}
