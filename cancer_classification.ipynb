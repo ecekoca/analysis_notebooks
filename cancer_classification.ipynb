{
 "cells": [
  {
   "cell_type": "markdown",
   "metadata": {},
   "source": [
    "# Classification for UKB data"
   ]
  },
  {
   "cell_type": "code",
   "execution_count": null,
   "metadata": {},
   "outputs": [],
   "source": [
    "import pandas as pd\n",
    "import numpy as np\n",
    "import plotly.express as px\n",
    "import matplotlib.pyplot as plt\n",
    "import seaborn as sns\n",
    "import math, boto3, tempfile\n",
    "import scipy.stats as sp\n",
    "from sklearn import manifold\n",
    "\n",
    "from sklearn.tree import DecisionTreeClassifier\n",
    "from sklearn import tree\n",
    "from sklearn.model_selection import train_test_split\n",
    "from sklearn.pipeline import make_pipeline\n",
    "from sklearn.preprocessing import StandardScaler\n",
    "from sklearn.svm import SVC\n",
    "from sklearn.metrics import confusion_matrix\n",
    "from sklearn.metrics import precision_score, recall_score, f1_score, accuracy_score, balanced_accuracy_score\n",
    "from sklearn.utils import resample"
   ]
  },
  {
   "cell_type": "code",
   "execution_count": null,
   "metadata": {},
   "outputs": [],
   "source": [
    "s3_path = 's3://ukb-colorectal-cancer/analysis/'\n",
    "df = pd.read_csv(s3_path+'crc_dataset.csv')\n",
    "df.columns"
   ]
  },
  {
   "cell_type": "markdown",
   "metadata": {},
   "source": [
    "## Decision Trees"
   ]
  },
  {
   "cell_type": "code",
   "execution_count": null,
   "metadata": {},
   "outputs": [],
   "source": [
    "precision = []\n",
    "recall = []\n",
    "accuracy = []\n",
    "f1 = []\n",
    "bio_name = []\n",
    "\n",
    "for col in df.columns[:-1]:\n",
    "    df2 = df[[col,'label_crc']].copy(deep=True)\n",
    "    df2.dropna(inplace=True)\n",
    "    p_idx = df2['label_crc'] == True\n",
    "    df2 = df2.groupby('label_crc', group_keys=False).apply(lambda x: x.sample(n=len(df2[p_idx]), replace=False, random_state=0)) # create a balanced set\n",
    "    \n",
    "    y = df2.pop('label_crc')\n",
    "    X = np.array(df2).reshape(-1, 1)\n",
    "    if len(X)>0:\n",
    "        X_train, X_test, y_train, y_test = train_test_split(X, y, test_size=0.3, random_state=1)\n",
    "        clf = DecisionTreeClassifier()\n",
    "        clf = clf.fit(X_train,y_train)\n",
    "        y_pred = clf.predict(X_test)\n",
    "    \n",
    "        precision.append(precision_score(y_test, y_pred))\n",
    "        recall.append(recall_score(y_test, y_pred))\n",
    "        accuracy.append(accuracy_score(y_test, y_pred))\n",
    "        f1.append(f1_score(y_test, y_pred))\n",
    "        bio_name.append(col)"
   ]
  },
  {
   "cell_type": "code",
   "execution_count": null,
   "metadata": {
    "collapsed": true,
    "jupyter": {
     "outputs_hidden": true
    }
   },
   "outputs": [],
   "source": [
    "pd.set_option('display.max_rows', None)\n",
    "clf_df = pd.DataFrame()\n",
    "clf_df = clf_df.assign(biomarker=bio_name, precision=precision, recall=recall, accuracy=accuracy, f1=f1)\n",
    "\n",
    "clf_df = clf_df.sort_values(by='accuracy', ascending=False, ignore_index=True)\n",
    "clf_df.to_csv(s3_path+'tables/decision_trees_results.csv', index=False)\n",
    "clf_df"
   ]
  },
  {
   "cell_type": "code",
   "execution_count": null,
   "metadata": {},
   "outputs": [],
   "source": [
    "fig1, ax1 = plt.subplots(figsize=(20,4))\n",
    "\n",
    "ax1 = plt.bar(np.arange(len(clf_df)), clf_df['accuracy'], tick_label=clf_df['biomarker'], color='navy')\n",
    "plt.axhline(y=0.5, color='r', linestyle=':')\n",
    "plt.xticks(rotation=80)\n",
    "plt.ylabel('Accuracy')\n",
    "plt.ylim((0.2,0.7))\n",
    "plt.savefig('./figures/decision_trees_results.jpg', dpi=150) \n",
    "plt.show()\n"
   ]
  },
  {
   "cell_type": "markdown",
   "metadata": {},
   "source": [
    "# Random Forest"
   ]
  },
  {
   "cell_type": "code",
   "execution_count": null,
   "metadata": {},
   "outputs": [],
   "source": [
    "from sklearn.ensemble import RandomForestClassifier\n",
    "from sklearn.model_selection import RepeatedStratifiedKFold, cross_val_score"
   ]
  },
  {
   "cell_type": "code",
   "execution_count": null,
   "metadata": {},
   "outputs": [],
   "source": [
    "precision = []\n",
    "recall = []\n",
    "accuracy = []\n",
    "f1 = []\n",
    "bio_name = []\n",
    "\n",
    "for col in df.columns[:-1]:\n",
    "    df2 = df[[col,'label_crc']].copy(deep=True)\n",
    "    df2.dropna(inplace=True)\n",
    "    p_idx = df2['label_crc'] == True\n",
    "    df2 = df2.groupby('label_crc', group_keys=False).apply(lambda x: x.sample(n=len(df2[p_idx]), replace=False, random_state=0)) # create a balanced set\n",
    "    y = df2.pop('label_crc')\n",
    "    X = np.array(df2).reshape(-1, 1)\n",
    "    \n",
    "    if len(X)>0:\n",
    "        clf = RandomForestClassifier(n_estimators=100, max_depth=5, criterion=\"entropy\", random_state=0)\n",
    "        splitter = RepeatedStratifiedKFold(n_splits=5, n_repeats=2, random_state=0)\n",
    "        precision.append(np.round(cross_val_score(clf, X, y, cv=splitter, scoring='precision').mean(),2))\n",
    "        recall.append(np.round(cross_val_score(clf, X, y, cv=splitter, scoring='recall').mean(),2))\n",
    "        accuracy.append(np.round(cross_val_score(clf, X, y, cv=splitter, scoring='accuracy').mean(),2))\n",
    "        f1.append(np.round(cross_val_score(clf, X, y, cv=splitter, scoring='f1').mean(),2))\n",
    "        bio_name.append(col)"
   ]
  },
  {
   "cell_type": "code",
   "execution_count": null,
   "metadata": {
    "collapsed": true,
    "jupyter": {
     "outputs_hidden": true
    }
   },
   "outputs": [],
   "source": [
    "pd.set_option('display.max_rows', None)\n",
    "clf_df = pd.DataFrame()\n",
    "clf_df = clf_df.assign(biomarker=bio_name, precision=precision, recall=recall, accuracy=accuracy, f1=f1)\n",
    "\n",
    "clf_df = clf_df.sort_values(by='accuracy', ascending=False, ignore_index=True)\n",
    "clf_df.to_csv(s3_path+'tables/random_forests_results.csv', index=False)\n",
    "clf_df"
   ]
  },
  {
   "cell_type": "code",
   "execution_count": null,
   "metadata": {},
   "outputs": [],
   "source": [
    "fig1, ax1 = plt.subplots(figsize=(20,4))\n",
    "\n",
    "ax1 = plt.bar(np.arange(len(clf_df)), clf_df['accuracy'], tick_label=clf_df['biomarker'], color='mediumturquoise')\n",
    "plt.axhline(y=0.5, color='k', linestyle='-')\n",
    "plt.xticks(rotation=80)\n",
    "plt.ylabel('Accuracy')\n",
    "plt.ylim((0.3,0.6))\n",
    "plt.title('Random forest classification accuracy - single measures')\n",
    "plt.grid(axis='y')\n",
    "\n",
    "plt.savefig('./figures/random_forests_results.jpg', dpi=150) \n",
    "plt.show()\n"
   ]
  },
  {
   "cell_type": "markdown",
   "metadata": {},
   "source": [
    "# Recursive feature elimination"
   ]
  },
  {
   "cell_type": "code",
   "execution_count": null,
   "metadata": {},
   "outputs": [],
   "source": [
    "from sklearn.feature_selection import RFE\n",
    "from sklearn.pipeline import Pipeline\n",
    "from sklearn.model_selection import GridSearchCV"
   ]
  },
  {
   "cell_type": "code",
   "execution_count": null,
   "metadata": {},
   "outputs": [],
   "source": [
    "s3_path = 's3://ukb-colorectal-cancer/analysis/'\n",
    "df = pd.read_csv(s3_path+'labels/all_cancer_labels.csv')"
   ]
  },
  {
   "cell_type": "code",
   "execution_count": null,
   "metadata": {},
   "outputs": [],
   "source": [
    "df2 = df[['sex', 'age', 'ethnicity', 'townsend', 'bmi', 'pulse', 'dbp', 'sbp',\n",
    "       'wbc', 'rbc', 'hgb', 'hct', 'plt', 'lym', 'ualb', 'cr_urine', 'potas',\n",
    "       'sodium', 'apoa', 'apob', 'urea', 'chol', 'crp', 'cysc', 'hdl', 'igf1',\n",
    "       'ldl', 'shbg', 'tst', 'tprotein', 'tgly', 'vitd','label_crc']].copy(deep=True)\n",
    "df2.dropna(inplace=True)"
   ]
  },
  {
   "cell_type": "code",
   "execution_count": null,
   "metadata": {},
   "outputs": [],
   "source": [
    "y = df2.pop('label_crc')\n",
    "X = df2"
   ]
  },
  {
   "cell_type": "code",
   "execution_count": null,
   "metadata": {},
   "outputs": [],
   "source": [
    "clf = RandomForestClassifier(n_estimators=100,max_depth=5,criterion=\"entropy\",random_state=0)\n",
    "selector = RFE(clf)\n",
    "selector = selector.fit(X, y)\n",
    "selected_features = pd.DataFrame({'Feature':list(X.columns),'Ranking':selector.ranking_})\n",
    "selected_features.sort_values(by='Ranking')"
   ]
  },
  {
   "cell_type": "markdown",
   "metadata": {},
   "source": [
    "# Random Forest classification of all cancer sites"
   ]
  },
  {
   "cell_type": "code",
   "execution_count": null,
   "metadata": {},
   "outputs": [],
   "source": [
    "import pandas as pd\n",
    "import matplotlib.pyplot as plt\n",
    "import numpy as np\n",
    "import seaborn as sns\n",
    "from sklearn.ensemble import RandomForestClassifier\n",
    "from sklearn.model_selection import RepeatedStratifiedKFold, cross_val_score"
   ]
  },
  {
   "cell_type": "code",
   "execution_count": null,
   "metadata": {},
   "outputs": [],
   "source": [
    "s3_path = 's3://ukb-colorectal-cancer/analysis/'\n",
    "df = pd.read_csv(s3_path+'labels/all_cancer_labels.csv')\n",
    "ca_sites = df.columns.to_list()"
   ]
  },
  {
   "cell_type": "code",
   "execution_count": null,
   "metadata": {},
   "outputs": [],
   "source": [
    "biomarkers = ['sex', 'age', 'ethnicity', 'townsend', 'bmi', 'pulse', 'dbp', 'sbp',\n",
    "       'wbc', 'rbc', 'hgb', 'hct', 'plt', 'lym', 'ualb', 'cr_urine', 'potas',\n",
    "       'sodium', 'apoa', 'apob', 'urea', 'chol', 'crp', 'cysc', 'hdl', 'igf1',\n",
    "       'ldl', 'shbg', 'tst', 'tprotein', 'tgly', 'vitd', 'age_at_diagnosis',\n",
    "       'n_cancer_dx', 'n_cancer_occs', 'age_at_death', 'tumour_hist',\n",
    "       'tumour_beh', 'baso', 'eos', 'mchc', 'mcv', 'mono', 'np', 'ret', 'pdw',\n",
    "       'pct', 'alt', 'alb', 'alp', 'ast', 'calc', 'cr_blood', 'dbi', 'ggt',\n",
    "       'glu', 'hgba1c', 'e2', 'phos', 'rf', 'tbil', 'phbv', 'cit', 'gln',\n",
    "       'gly', 'his', 'ile', 'bla', 'leu', 'mufa', 'phe', 'sph', 'tyr', 'val',\n",
    "       'dha_tfa', 'grip_l', 'grip_r', 'trunk_fat', 'bmr', 'adj_ts_ratio',\n",
    "       'ts_ratio_reg', 'unadj_ts_ratio', 'z_ts_ratio','label']"
   ]
  },
  {
   "cell_type": "code",
   "execution_count": null,
   "metadata": {},
   "outputs": [],
   "source": [
    "count_arr = np.empty((len(biomarkers[:-1]),len(ca_sites)), float)\n",
    "acc_arr = np.empty((len(biomarkers[:-1]),len(ca_sites)), float)"
   ]
  },
  {
   "cell_type": "code",
   "execution_count": null,
   "metadata": {
    "collapsed": true,
    "jupyter": {
     "outputs_hidden": true
    }
   },
   "outputs": [],
   "source": [
    "for ca in ca_sites:\n",
    "    print('Working on ', ca)\n",
    "    df = pd.read_csv(s3_path+ca+'_dataset.csv')\n",
    "    j = ca_sites.index(ca)\n",
    "    for col in df.columns[:-1]:\n",
    "        i = df.columns.get_loc(col)\n",
    "        df2 = df[[col,'label']].copy(deep=True)\n",
    "        df2.dropna(inplace=True)\n",
    "        p_idx = df2['label'] == True\n",
    "        count_arr[i,j] = len(df2[p_idx])\n",
    "        df2 = df2.groupby('label', group_keys=False).apply(lambda x: x.sample(n=len(df2[p_idx]), replace=False, random_state=0)) # create a balanced set\n",
    "        y = df2.pop('label')\n",
    "        X = np.array(df2).reshape(-1, 1)\n",
    "    \n",
    "        if len(X)>20:\n",
    "            clf = RandomForestClassifier(n_estimators=100, max_depth=5, criterion=\"entropy\", random_state=0)\n",
    "            splitter = RepeatedStratifiedKFold(n_splits=5, n_repeats=2, random_state=0)\n",
    "            acc_arr[i,j] = np.round(cross_val_score(clf, X, y, cv=splitter, scoring='accuracy').mean(),2)\n",
    "        else:\n",
    "            acc_arr[i,j] = np.NaN\n",
    "    np.nanmax(acc_arr[:,j])\n",
    "    print('Max accuracy is,', np.nanmax(acc_arr[:,j]), ' for ', biomarkers[np.nanargmax(acc_arr[:,j])])"
   ]
  },
  {
   "cell_type": "code",
   "execution_count": null,
   "metadata": {
    "collapsed": true,
    "jupyter": {
     "outputs_hidden": true
    }
   },
   "outputs": [],
   "source": [
    "pd.set_option('display.max_rows', None)\n",
    "clf_df = pd.DataFrame()\n",
    "clf_df['biomarker'] = biomarkers[:-1]\n",
    "\n",
    "for ca in ca_sites:\n",
    "    clf_df[ca] = acc_arr[:,ca_sites.index(ca)]\n",
    "\n",
    "#clf_df = clf_df.sort_values(by='accuracy', ascending=False, ignore_index=True)\n",
    "clf_df.to_csv(s3_path+'tables/random_forests_by_cancer_site_accuracy.csv', index=False)\n",
    "clf_df"
   ]
  },
  {
   "cell_type": "code",
   "execution_count": null,
   "metadata": {},
   "outputs": [],
   "source": [
    "ca_names = ['CRC', 'breast','prostate', 'lung', 'bladder', 'kidney', 'brain', 'lymphoma', 'thyroid', 'stomach', 'liver', 'pancreas', 'cervix']\n",
    "\n",
    "fig, axes = plt.subplots(13,1, figsize=(20,15))\n",
    "\n",
    "for i in range(len(ca_sites)):\n",
    "    plt.subplot(13,1,i+1)\n",
    "    plt.plot(range(1,len(biomarkers)),acc_arr[:,i], color='navy')\n",
    "    plt.ylim((0.5,0.75))\n",
    "    plt.xticks(range(1,len(biomarkers)))\n",
    "    plt.ylabel(ca_names[i], rotation=0, labelpad=35)\n",
    "    plt.fill_between(range(1,len(biomarkers)),acc_arr[:,i], color='blue', alpha=0.2)\n",
    "    if i==0:\n",
    "        plt.title('Random forest classification accuracy - single measures')\n",
    "\n",
    "plt.xticks(range(1,len(biomarkers)), biomarkers, rotation=80)\n",
    "plt.savefig('./figures/random_forests_by_cancer_site_accuracy.jpg', dpi=150) \n",
    "plt.show()\n"
   ]
  },
  {
   "cell_type": "code",
   "execution_count": null,
   "metadata": {
    "collapsed": true,
    "jupyter": {
     "outputs_hidden": true
    }
   },
   "outputs": [],
   "source": [
    "pd.set_option('display.max_rows', None)\n",
    "clf_df = pd.DataFrame()\n",
    "clf_df['biomarker'] = biomarkers[:-1]\n",
    "\n",
    "for ca in ca_sites:\n",
    "    clf_df[ca] = count_arr[:,ca_sites.index(ca)]\n",
    "\n",
    "#clf_df = clf_df.sort_values(by='accuracy', ascending=False, ignore_index=True)\n",
    "clf_df.to_csv(s3_path+'tables/random_forests_by_cancer_site_count.csv', index=False)\n",
    "clf_df"
   ]
  },
  {
   "cell_type": "markdown",
   "metadata": {},
   "source": [
    "# XGBoost"
   ]
  },
  {
   "cell_type": "code",
   "execution_count": null,
   "metadata": {},
   "outputs": [],
   "source": [
    "pip install xgboost"
   ]
  },
  {
   "cell_type": "code",
   "execution_count": null,
   "metadata": {},
   "outputs": [],
   "source": [
    "pip install hyperopt"
   ]
  },
  {
   "cell_type": "code",
   "execution_count": null,
   "metadata": {},
   "outputs": [],
   "source": [
    "import pandas as pd\n",
    "import matplotlib.pyplot as plt\n",
    "import numpy as np\n",
    "import seaborn as sns\n",
    "from sklearn.ensemble import RandomForestClassifier\n",
    "from sklearn.model_selection import RepeatedStratifiedKFold, cross_val_score, train_test_split\n",
    "from sklearn.metrics import accuracy_score\n",
    "import xgboost as xgb\n",
    "from hyperopt import STATUS_OK, Trials, fmin, hp, tpe"
   ]
  },
  {
   "cell_type": "code",
   "execution_count": null,
   "metadata": {},
   "outputs": [],
   "source": [
    "s3_path = 's3://ukb-colorectal-cancer/analysis/'\n",
    "df = pd.read_csv(s3_path+'labels/all_cancer_labels.csv')\n",
    "ca_sites = df.columns.to_list()"
   ]
  },
  {
   "cell_type": "code",
   "execution_count": null,
   "metadata": {},
   "outputs": [],
   "source": [
    "biomarkers = ['sex', 'age', 'ethnicity', 'townsend', 'bmi', 'pulse', 'dbp', 'sbp',\n",
    "       'wbc', 'rbc', 'hgb', 'hct', 'plt', 'lym', 'ualb', 'cr_urine', 'potas',\n",
    "       'sodium', 'apoa', 'apob', 'urea', 'chol', 'crp', 'cysc', 'hdl', 'igf1',\n",
    "       'ldl', 'shbg', 'tst', 'tprotein', 'tgly', 'vitd', 'age_at_diagnosis',\n",
    "       'n_cancer_dx', 'n_cancer_occs', 'age_at_death', 'tumour_hist',\n",
    "       'tumour_beh', 'baso', 'eos', 'mchc', 'mcv', 'mono', 'np', 'ret', 'pdw',\n",
    "       'pct', 'alt', 'alb', 'alp', 'ast', 'calc', 'cr_blood', 'dbi', 'ggt',\n",
    "       'glu', 'hgba1c', 'e2', 'phos', 'rf', 'tbil', 'phbv', 'cit', 'gln',\n",
    "       'gly', 'his', 'ile', 'bla', 'leu', 'mufa', 'phe', 'sph', 'tyr', 'val',\n",
    "       'dha_tfa', 'grip_l', 'grip_r', 'trunk_fat', 'bmr', 'adj_ts_ratio',\n",
    "       'ts_ratio_reg', 'unadj_ts_ratio', 'z_ts_ratio','label']"
   ]
  },
  {
   "cell_type": "code",
   "execution_count": null,
   "metadata": {},
   "outputs": [],
   "source": [
    "# Run xgboost hyperparameter optimisation\n",
    "\n",
    "df = pd.read_csv(s3_path+ca_sites[0]+'_dataset.csv')\n",
    "df2 = df[biomarkers].copy(deep=True)\n",
    "idx = df2.index[df2['label'].isnull()]\n",
    "df2.drop(idx, inplace=True)\n",
    "p_idx = df2['label'] == True\n",
    "df2 = df2.groupby('label', group_keys=False).apply(lambda x: x.sample(n=len(df2[p_idx]), replace=False, random_state=0)) # create a balanced set\n",
    "        \n",
    "y = df2.pop('label')\n",
    "X = df2\n",
    "\n",
    "X_train, X_test, y_train, y_test = train_test_split(X, y, test_size=0.33)\n",
    "space={'max_depth': hp.quniform(\"max_depth\", 3, 18, 1),\n",
    "        'gamma': hp.uniform ('gamma', 1,9),\n",
    "        'reg_alpha' : hp.quniform('reg_alpha', 40,180,1),\n",
    "        'reg_lambda' : hp.uniform('reg_lambda', 0,1),\n",
    "        'colsample_bytree' : hp.uniform('colsample_bytree', 0.5,1),\n",
    "        'min_child_weight' : hp.quniform('min_child_weight', 0, 10, 1),\n",
    "        'n_estimators': 180,\n",
    "        'seed': 0}\n",
    "\n",
    "def objective(space):\n",
    "    clf=xgb.XGBClassifier(\n",
    "                    n_estimators =space['n_estimators'], max_depth = int(space['max_depth']), gamma = space['gamma'],\n",
    "                    reg_alpha = int(space['reg_alpha']),min_child_weight=int(space['min_child_weight']),\n",
    "                    colsample_bytree=int(space['colsample_bytree']))\n",
    "    evaluation = [( X_train, y_train), ( X_test, y_test)]  \n",
    "    clf.fit(X_train, y_train, eval_set=evaluation, eval_metric=\"auc\", early_stopping_rounds=10,verbose=False)\n",
    "    pred = clf.predict(X_test)\n",
    "    accuracy = accuracy_score(y_test, pred>0.5)\n",
    "    return {'loss': -accuracy, 'status': STATUS_OK }\n",
    "\n",
    "trials = Trials()\n",
    "best_hyperparams = fmin(fn = objective, space = space, algo = tpe.suggest, max_evals = 100, trials = trials)\n",
    "\n",
    "print(\"The best hyperparameters are : \",\"\\n\")\n",
    "print(best_hyperparams)"
   ]
  },
  {
   "cell_type": "code",
   "execution_count": null,
   "metadata": {},
   "outputs": [],
   "source": [
    "# Run xgboost on CRC and check feature importance\n",
    "\n",
    "df = pd.read_csv(s3_path+ca_sites[0]+'_dataset.csv')\n",
    "df2 = df[biomarkers].copy(deep=True)\n",
    "idx = df2.index[df2['label'].isnull()]\n",
    "df2.drop(idx, inplace=True)\n",
    "p_idx = df2['label'] == True\n",
    "df2 = df2.groupby('label', group_keys=False).apply(lambda x: x.sample(n=len(df2[p_idx]), replace=False, random_state=0)) # create a balanced set\n",
    "        \n",
    "y = df2.pop('label')\n",
    "X = df2\n",
    "\n",
    "best_hyperparams['n_estimators'] = 100\n",
    "best_hyperparams['max_depth'] = int(best_hyperparams['max_depth'])\n",
    "\n",
    "X_train, X_test, y_train, y_test = train_test_split(X, y, test_size=0.33)\n",
    "xgb_clf = xgb.XGBClassifier(**best_hyperparams)\n",
    "xgb_clf.fit(X_train, y_train)\n",
    "preds = xgb_clf.predict(X_test)\n",
    "acc_xgb = (preds == y_test).sum().astype(float) / len(preds)*100\n",
    "print(\"XGBoost's prediction accuracy is: %3.2f\" % (acc_xgb))\n",
    "\n",
    "xgb_cv = xgb.XGBClassifier(**best_hyperparams)\n",
    "scores = cross_val_score(xgb_cv, X_train, y_train, cv=5, scoring = \"accuracy\")\n",
    "print(\"XGBoost's CV prediction accuracy is: %3.2f\" % (scores.mean()*100))\n",
    "\n",
    "importance_df = pd.DataFrame({\n",
    "    'Feature': df2.columns,\n",
    "    'Importance': xgb_clf.feature_importances_\n",
    "})\n",
    "importance_df = importance_df.sort_values(by='Importance', ascending=False)\n",
    "importance_df = importance_df.set_index('Feature')\n",
    "\n",
    "importance_df"
   ]
  },
  {
   "cell_type": "code",
   "execution_count": null,
   "metadata": {
    "collapsed": true,
    "jupyter": {
     "outputs_hidden": true
    }
   },
   "outputs": [],
   "source": [
    "# Run xgboost on balanced datasets for each cancer site\n",
    "\n",
    "precision = []; recall = [];\n",
    "accuracy = []; f1 = []\n",
    "\n",
    "for ca in ca_sites:\n",
    "    print('Working on ', ca)\n",
    "    j = ca_sites.index(ca)\n",
    "    \n",
    "    df = pd.read_csv(s3_path+ca+'_dataset.csv')\n",
    "    df2 = df[biomarkers].copy(deep=True)\n",
    "    idx = df2.index[df2['label'].isnull()]\n",
    "    df2.drop(idx, inplace=True)\n",
    "    p_idx = df2['label'] == True\n",
    "    df2 = df2.groupby('label', group_keys=False).apply(lambda x: x.sample(n=len(df2[p_idx]), replace=False, random_state=0)) # create a balanced set\n",
    "        \n",
    "    y = df2.pop('label')\n",
    "    X = df2\n",
    "    data_dmatrix = xgb.DMatrix(data=X,label=y)\n",
    "    model = xgb.XGBClassifier()\n",
    "    splitter = RepeatedStratifiedKFold(n_splits=5, n_repeats=2, random_state=0)\n",
    "    \n",
    "    precision.append(np.round(cross_val_score(model, X, y, cv=splitter, scoring='precision').mean(),2))\n",
    "    recall.append(np.round(cross_val_score(model, X, y, cv=splitter, scoring='recall').mean(),2))\n",
    "    k = np.round(cross_val_score(model, X, y, cv=splitter, scoring='accuracy').mean(),2)\n",
    "    accuracy.append(k)\n",
    "    print('Accuracy: ', k)\n",
    "    f1.append(np.round(cross_val_score(model, X, y, cv=splitter, scoring='f1').mean(),2))\n",
    "    \n",
    "    #xgb_lg = xgb.train(params=params, dtrain=data_dmatrix, num_boost_round=50)\n",
    "    #xgb.plot_importance(xgb_lg)\n",
    "    #plt.rcParams['figure.figsize'] = [20, 20]\n",
    "    #plt.savefig('./figures/xgboost_feature_importance_'+ca+'.jpg', dpi=150)\n",
    "    #plt.show()"
   ]
  },
  {
   "cell_type": "code",
   "execution_count": null,
   "metadata": {},
   "outputs": [],
   "source": [
    "pd.set_option('display.max_rows', None)\n",
    "clf_df = pd.DataFrame()\n",
    "clf_df = clf_df.assign(cancer=ca_sites, precision=precision, recall=recall, accuracy=accuracy, f1=f1)\n",
    "\n",
    "clf_df = clf_df.sort_values(by='accuracy', ascending=False, ignore_index=True)\n",
    "clf_df.to_csv(s3_path+'tables/xgboost_by_cancer_site_results.csv', index=False)\n",
    "clf_df"
   ]
  }
 ],
 "metadata": {
  "instance_type": "ml.t3.medium",
  "kernelspec": {
   "display_name": "Python 3 (Data Science)",
   "language": "python",
   "name": "python3__SAGEMAKER_INTERNAL__arn:aws:sagemaker:eu-west-2:712779665605:image/datascience-1.0"
  },
  "language_info": {
   "codemirror_mode": {
    "name": "ipython",
    "version": 3
   },
   "file_extension": ".py",
   "mimetype": "text/x-python",
   "name": "python",
   "nbconvert_exporter": "python",
   "pygments_lexer": "ipython3",
   "version": "3.7.10"
  }
 },
 "nbformat": 4,
 "nbformat_minor": 4
}
