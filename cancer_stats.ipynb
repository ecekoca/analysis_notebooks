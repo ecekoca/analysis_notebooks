{
 "cells": [
  {
   "cell_type": "markdown",
   "metadata": {},
   "source": [
    "# Stats and visualisation for cancer data"
   ]
  },
  {
   "cell_type": "code",
   "execution_count": null,
   "metadata": {},
   "outputs": [],
   "source": [
    "pip install statsmodels==0.13.2"
   ]
  },
  {
   "cell_type": "code",
   "execution_count": null,
   "metadata": {},
   "outputs": [],
   "source": [
    "import pandas as pd\n",
    "import numpy as np\n",
    "import plotly.express as px\n",
    "import matplotlib.pyplot as plt\n",
    "import seaborn as sns\n",
    "import math, boto3, tempfile\n",
    "import scipy.stats as sp\n",
    "from sklearn import manifold\n",
    "from utils import *\n",
    "from label_utils import *\n",
    "from sklearn.preprocessing import MinMaxScaler\n",
    "import statsmodels as sm"
   ]
  },
  {
   "cell_type": "code",
   "execution_count": null,
   "metadata": {},
   "outputs": [],
   "source": [
    "s3_path = 's3://ukb-colorectal-cancer/analysis/'\n",
    "df = read_csv(s3_path+'crc_dataset_outlier_rem.csv')"
   ]
  },
  {
   "cell_type": "code",
   "execution_count": null,
   "metadata": {},
   "outputs": [],
   "source": [
    "df(['label_crc','sex'])['sex'].value_counts()"
   ]
  },
  {
   "cell_type": "markdown",
   "metadata": {},
   "source": [
    "# X2 tests"
   ]
  },
  {
   "cell_type": "code",
   "execution_count": null,
   "metadata": {},
   "outputs": [],
   "source": [
    "# X2 tests\n",
    "\n",
    "perc_c = []\n",
    "perc_p = []\n",
    "chi_res = []\n",
    "pval = []\n",
    "\n",
    "c_idx = df['label_crc'] == False\n",
    "p_idx = df['label_crc'] == True\n",
    "c, p = df['label_crc'].value_counts()\n",
    "\n",
    "cols = ['sex', 'ethnicity', 'edu_level','centre', 'weight_change', 'aspirin', 'family_cancer','family_crc',\n",
    "        'hist_cvd','hist_diabetes','hist_ibd','hist_livergall','crc_screening']\n",
    "\n",
    "for col in cols:\n",
    "    codes = pd.unique(df[col])\n",
    "    codes = codes[~np.isnan(codes)] # remove nan from codes\n",
    "    c_n = []\n",
    "    p_n = []\n",
    "    for i in codes:\n",
    "        c_n.append(len(df.loc[(df[col] == i) & (df['label_crc'] == False)]))\n",
    "        p_n.append(len(df.loc[(df[col] == i) & (df['label_crc'] == True)]))\n",
    "    if min(c_n)==0:\n",
    "        ix = c_n.index(0)\n",
    "        c_n[ix] = 0.000001; p_n[ix] = 0.000001\n",
    "    if min(p_n)==0:\n",
    "        ix = p_n.index(0)\n",
    "        p_n[ix] = 0.000001; c_n[ix] = 0.000001\n",
    "    perc_c.append(np.around(np.array(c_n)/np.sum(c_n)*100,2)); perc_p.append(np.around(np.array(p_n)/np.sum(p_n)*100,2))    \n",
    "    chi, ps = sp.chisquare(f_obs=np.array(c_n)/np.sum(c_n)*100,f_exp=np.array(p_n)/np.sum(p_n)*100)\n",
    "    chi_res.append(round(chi,3)); pval.append(round(ps,4))\n",
    "\n",
    "stats_df = pd.DataFrame()\n",
    "stats_df = stats_df.assign(biomarker=cols, perc_c=perc_c, perc_p=perc_p,chi2=chi_res, p=pval)\n",
    "stats_df.to_csv(s3_path+'tables/chisquare_results.csv', index=False)\n",
    "stats_df"
   ]
  },
  {
   "cell_type": "markdown",
   "metadata": {},
   "source": [
    "# Intercorrelations"
   ]
  },
  {
   "cell_type": "code",
   "execution_count": null,
   "metadata": {},
   "outputs": [],
   "source": [
    "df2 = df[['age', 'sex', 'yoe','townsend', 'weight_change', 'bmi', 'waist_to_hip',\n",
    "       'trunk_leg_fat', 'impedance',  'met_rate', 'pulse',\n",
    "       'dbp', 'sbp', 'grip_strength', 'oily_fish', 'veg_fruit',\n",
    "       'red_meat', 'sleep_dur', 'met_mins', 'alcohol', 'smoking', \n",
    "       'aspirin', 'wbc', 'rbc', 'hgb', 'hct', 'plt',\n",
    "       'lym', 'u_cr', 'u_potas', 'u_sodium', 'apoa', 'apob', 'urea', 'chol',\n",
    "       'crp', 'cysc', 'hdl', 'igf1', 'ldl', 'shgb', 'tst', 'tprotein', 'tgly',\n",
    "       'vitd', 'mcv', 'mono', 'neut', 'eos', 'baso', 'n_rbc', 'ret', 'alb',\n",
    "       'alp', 'alt', 'ast', 'dbi', 'calc', 'ggt', 'glu', 'hba1c', 'phos',\n",
    "       'tbil', 'urate', 'health_rating', 'label_crc']].copy(deep=True)"
   ]
  },
  {
   "cell_type": "code",
   "execution_count": null,
   "metadata": {},
   "outputs": [],
   "source": [
    "idx = df2.index[df2['label_crc'].isnull()]\n",
    "df2.drop(idx, inplace=True)\n",
    "df2.shape"
   ]
  },
  {
   "cell_type": "code",
   "execution_count": null,
   "metadata": {},
   "outputs": [],
   "source": [
    "# Calculate intercorrelations\n",
    "\n",
    "corrs = df2.corr()\n",
    "pval = df2.corr(method=lambda x, y: sp.pearsonr(x, y)[1]) - np.eye(*corrs.shape)\n",
    "\n",
    "mask = np.triu(np.ones_like(corrs, dtype=bool))\n",
    "plt.figure(figsize=(20,20))\n",
    "sns.heatmap(corrs, annot=False, annot_kws = {'size':9},fmt='.2f', mask=mask, xticklabels=1, yticklabels=1, \\\n",
    "            square=True, cbar_kws={\"shrink\": 0.5}, cmap='bwr', vmin=-0.5, vmax=0.5).set(title='Intercorrelations - rmap')\n",
    "\n",
    "plt.savefig('./figures/biomarker_rmap_everyone.jpg', dpi=150) \n",
    "plt.show()"
   ]
  },
  {
   "cell_type": "markdown",
   "metadata": {},
   "source": [
    "# Stats"
   ]
  },
  {
   "cell_type": "code",
   "execution_count": null,
   "metadata": {},
   "outputs": [],
   "source": [
    "from sklearn.preprocessing import minmax_scale\n",
    "import seaborn as sns"
   ]
  },
  {
   "cell_type": "code",
   "execution_count": null,
   "metadata": {},
   "outputs": [],
   "source": [
    "df2 = df[['age','yoe','townsend', 'bmi',\n",
    "       'waist_to_hip', 'trunk_leg_fat', 'impedance', 'health_rating',\n",
    "       'met_rate', 'pulse', 'dbp', 'sbp', 'grip_strength', 'oily_fish',\n",
    "       'veg_fruit', 'red_meat',\n",
    "       'sleep_dur', 'met_mins', 'alcohol', 'smoking', 'wbc', 'rbc',\n",
    "       'hgb', 'hct', 'plt', 'lym', 'u_cr', 'u_potas', 'u_sodium', 'apoa',\n",
    "       'apob', 'urea', 'chol', 'crp', 'cysc', 'hdl', 'igf1', 'ldl', 'shgb',\n",
    "       'tst', 'tprotein', 'tgly', 'vitd', 'mcv', 'mono', 'neut', 'eos', 'baso',\n",
    "       'ret', 'alb', 'alp', 'alt', 'ast', 'dbi', 'calc', 'ggt', 'glu',\n",
    "       'hba1c', 'phos', 'tbil', 'urate']].copy(deep=True)\n",
    "\n",
    "c_idx = df['label_crc'] == False\n",
    "p_idx = df['label_crc'] == True"
   ]
  },
  {
   "cell_type": "code",
   "execution_count": null,
   "metadata": {},
   "outputs": [],
   "source": [
    "mean_c = []; mean_p = []; mean_cn = []; mean_pn = []\n",
    "sd_c = []; sd_p = []\n",
    "count_c = []; count_p = []\n",
    "deg_f = []\n",
    "\n",
    "norm_test = []\n",
    "tval = []\n",
    "t_pval = []\n",
    "uval = []\n",
    "u_pval = []\n",
    "\n",
    "for col in df2:\n",
    "    cc = df2[col][c_idx].count()\n",
    "    count_c.append(cc)\n",
    "    pc = df2[col][p_idx].count()\n",
    "    count_p.append(pc)\n",
    "    deg_f.append(cc+pc-2)\n",
    "    mean_c.append(round(np.nanmean(df2[col][c_idx]),2))\n",
    "    mean_p.append(round(np.nanmean(df2[col][p_idx]),2))\n",
    "    d = minmax_scale(df2[col], feature_range=(0,1), axis=0)\n",
    "    mean_cn.append(round(np.nanmean(d[c_idx]),2))\n",
    "    mean_pn.append(round(np.nanmean(d[p_idx]),2))\n",
    "    sd_c.append(round(np.nanstd(df2[col][c_idx]),2))\n",
    "    sd_p.append(round(np.nanstd(df2[col][p_idx]),2))\n",
    "    nm = sp.normaltest(df2[col], nan_policy='omit') # Check whether the biomarkers come from normal distributions (0=not normal)\n",
    "    norm_test.append(round(nm[1],1))\n",
    "    res = sp.ttest_ind(df2[col][c_idx],df2[col][p_idx], nan_policy='omit') # Between samples t-tests\n",
    "    tval.append(round(res[0],2)); tval_abs.append(round(np.abs(res[0]),2)); t_pval.append(round(res[1],6)); \n",
    "    res = sp.mannwhitneyu(df2[col][c_idx],df2[col][p_idx]) # Mann Whitney U tests\n",
    "    uval.append(round(res[0],2)); u_pval.append(round(res[1],5))"
   ]
  },
  {
   "cell_type": "code",
   "execution_count": null,
   "metadata": {},
   "outputs": [],
   "source": [
    "from statsmodels.stats.multitest import fdrcorrection\n",
    "rej, pcor = fdrcorrection(t_pval, alpha=0.05, method='indep', is_sorted=False)"
   ]
  },
  {
   "cell_type": "code",
   "execution_count": null,
   "metadata": {},
   "outputs": [],
   "source": [
    "pd.set_option('display.max_rows', None)\n",
    "stats_df = pd.DataFrame()\n",
    "stats_df = stats_df.assign(biomarker=df2.columns, count_c=count_c, count_p=count_p, deg_f=deg_f, mean_c=mean_c, mean_cn=mean_cn, sd_c=sd_c, \\\n",
    "                           mean_p=mean_p, mean_pn=mean_pn, sd_p=sd_p, normality=norm_test, tval=tval, tval_abs=tval_abs, t_pval=t_pval, uval=uval, u_pval=u_pval)\n",
    "stats_df['pcor'] = pcor\n",
    "stats_df.to_csv(s3_path+'tables/group_stats.csv', index=False)\n",
    "stats_df = stats_df.sort_values(by=['tval_abs'], ascending=False, ignore_index=True)\n",
    "stats_df"
   ]
  },
  {
   "cell_type": "code",
   "execution_count": null,
   "metadata": {},
   "outputs": [],
   "source": [
    "# Bar plots\n",
    "\n",
    "stats_df = stats_df.sort_values(by=['tval_abs'], ascending=False, ignore_index=True)\n",
    "\n",
    "idx = np.array(stats_df.index[stats_df['pcor']>0.05])\n",
    "x = np.arange(len(stats_df))\n",
    "width = 0.35  # the width of the bars\n",
    "\n",
    "fig, ax = plt.subplots(figsize=(15,5))\n",
    "rects1 = ax.bar(x - width/2, stats_df['mean_cn'], width, label='HC', color='navy')\n",
    "rects2 = ax.bar(x + width/2, stats_df['mean_pn'], width, label='CRC', color='tomato')\n",
    "ax.set_ylabel('au')\n",
    "ax.set_title('Normalised means by group')\n",
    "ax.set_xticks(x)\n",
    "ax.set_xticklabels(stats_df['biomarker'])\n",
    "ax.legend()\n",
    "fig.autofmt_xdate(rotation=45)\n",
    "plt.rc('xtick', labelsize=12)\n",
    "plt.rc('ytick', labelsize=12)\n",
    "plt.rc('font', size=13)\n",
    "plt.box()\n",
    "ax.set_facecolor(\"white\")\n",
    "for j in idx:\n",
    "    rects1[j].set_color('grey')\n",
    "    rects2[j].set_color('gainsboro')\n",
    "\n",
    "fig.tight_layout()\n",
    "plt.savefig('./figures/biomarker_group_effects.jpg', dpi=150) \n",
    "plt.show()"
   ]
  },
  {
   "cell_type": "markdown",
   "metadata": {},
   "source": [
    "# Odds ratios"
   ]
  },
  {
   "cell_type": "code",
   "execution_count": null,
   "metadata": {},
   "outputs": [],
   "source": [
    "from scipy.stats import fisher_exact"
   ]
  },
  {
   "cell_type": "code",
   "execution_count": null,
   "metadata": {},
   "outputs": [],
   "source": [
    "biomarkers = ['age', 'ethnicity', 'townsend', 'bmi', 'pulse', 'dbp', 'sbp',\n",
    "       'wbc', 'rbc', 'hgb', 'hct', 'plt', 'lym', 'ualb', 'cr_urine', 'potas',\n",
    "       'sodium', 'apoa', 'apob', 'urea', 'chol', 'crp', 'cysc', 'hdl', 'igf1',\n",
    "       'ldl', 'shbg', 'tst', 'tprotein', 'tgly', 'vitd', 'age_at_diagnosis',\n",
    "       'n_cancer_dx', 'n_cancer_occs', 'age_at_death', 'tumour_hist',\n",
    "       'tumour_beh', 'baso', 'eos', 'mchc', 'mcv', 'mono', 'np', 'ret', 'pdw',\n",
    "       'pct', 'alt', 'alb', 'alp', 'ast', 'calc', 'cr_blood', 'dbi', 'ggt',\n",
    "       'glu', 'hgba1c', 'e2', 'phos', 'rf', 'tbil', 'phbv', 'cit', 'gln',\n",
    "       'gly', 'his', 'ile', 'bla', 'leu', 'mufa', 'phe', 'sph', 'tyr', 'val',\n",
    "       'dha_tfa', 'grip_l', 'grip_r', 'trunk_fat', 'bmr', 'adj_ts_ratio',\n",
    "       'ts_ratio_reg', 'unadj_ts_ratio', 'z_ts_ratio']\n",
    "df2 = df[biomarkers].copy(deep=True)"
   ]
  },
  {
   "cell_type": "code",
   "execution_count": null,
   "metadata": {},
   "outputs": [],
   "source": [
    "df_lab = pd.read_csv(s3_path+'labels/all_cancer_labels.csv')\n",
    "ca_sites = df_lab.columns.to_list()\n",
    "\n",
    "for ca in ca_sites:\n",
    "    \n",
    "    df = pd.read_csv(s3_path+ca+'_dataset.csv')\n",
    "    df2 = df[biomarkers].copy(deep=True)\n",
    "    \n",
    "    count_c = []; count_p = []\n",
    "    perc_c = []; perc_p = []\n",
    "    OR1 = []; OR2 = []; pval = []\n",
    "    ci_l = []; ci_u = []\n",
    "\n",
    "    for col in df2:\n",
    "        ul = np.nanpercentile(df[col],75)\n",
    "        ll = np.nanpercentile(df[col],25)\n",
    "\n",
    "        a = len(df.loc[(df2[col] > ul) & (df['label'] == True)])\n",
    "        b = len(df.loc[(df2[col] > ul) & (df['label'] == False)])\n",
    "        c = len(df.loc[(df2[col] < ll) & (df['label'] == True)])\n",
    "        d = len(df.loc[(df2[col] < ll) & (df['label'] == False)])\n",
    "    \n",
    "        count_c.append(b)\n",
    "        count_p.append(a)\n",
    "        if (a+c)>0:\n",
    "            perc_p.append(a/(a+c)*100)\n",
    "        else:\n",
    "            perc_p.append(0)\n",
    "        if (b+d)>0:    \n",
    "            perc_c.append(b/(b+d)*100)\n",
    "        else:\n",
    "            perc_c.append(0)\n",
    "        table = np.array([[a, b], [c, d]])\n",
    "        OR, p = fisher_exact(table)\n",
    "        if np.all([a, b, c, d]):\n",
    "            ci_l.append(np.exp(np.log(OR) - 1.96*(np.sqrt((1/a)+(1/b)+(1/c)+(1/d)))))\n",
    "            ci_u.append(np.exp(np.log(OR) + 1.96*(np.sqrt((1/a)+(1/b)+(1/c)+(1/d)))))\n",
    "        else:\n",
    "            ci_l.append(np.NaN)\n",
    "            ci_u.append(np.NaN)\n",
    "        OR1.append(OR)\n",
    "        OR2.append(1/OR)\n",
    "        pval.append(p/2)\n",
    "        \n",
    "    pd.set_option('display.max_rows', None)\n",
    "    stats_df = pd.DataFrame()\n",
    "    stats_df = stats_df.assign(biomarker=df2.columns, count_c=count_c, perc_c=perc_c, count_p=count_p, perc_p=perc_p, \\\n",
    "                           OR1=OR1, OR2=OR2, CI_L=ci_l, CI_U=ci_u, p=pval)\n",
    "    stats_df.to_csv(s3_path+'tables/odds_ratio_75_25th_perc_stats'+ca+'.csv', index=False)"
   ]
  },
  {
   "cell_type": "code",
   "execution_count": null,
   "metadata": {
    "collapsed": true,
    "jupyter": {
     "outputs_hidden": true
    }
   },
   "outputs": [],
   "source": [
    "ca = ca_sites[3]\n",
    "print(ca)\n",
    "df = pd.read_csv(s3_path+'tables/odds_ratio_75_25th_perc_stats'+ca+'.csv')\n",
    "df.sort_values(by='p', ascending=True)"
   ]
  }
 ],
 "metadata": {
  "instance_type": "ml.t3.medium",
  "kernelspec": {
   "display_name": "Python 3.9.7 64-bit",
   "language": "python",
   "name": "python3"
  },
  "language_info": {
   "codemirror_mode": {
    "name": "ipython",
    "version": 3
   },
   "file_extension": ".py",
   "mimetype": "text/x-python",
   "name": "python",
   "nbconvert_exporter": "python",
   "pygments_lexer": "ipython3",
   "version": "3.9.7"
  },
  "vscode": {
   "interpreter": {
    "hash": "aee8b7b246df8f9039afb4144a1f6fd8d2ca17a180786b69acc140d282b71a49"
   }
  }
 },
 "nbformat": 4,
 "nbformat_minor": 4
}
