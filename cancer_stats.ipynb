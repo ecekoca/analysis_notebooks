{
 "cells": [
  {
   "cell_type": "markdown",
   "metadata": {},
   "source": [
    "# Stats and visualisation for cancer data"
   ]
  },
  {
   "cell_type": "code",
   "execution_count": null,
   "metadata": {},
   "outputs": [],
   "source": [
    "pip install matplotlib==3.4.2"
   ]
  },
  {
   "cell_type": "code",
   "execution_count": null,
   "metadata": {},
   "outputs": [],
   "source": [
    "import pandas as pd\n",
    "import numpy as np\n",
    "import plotly.express as px\n",
    "import matplotlib.pyplot as plt\n",
    "import seaborn as sns\n",
    "import math, boto3, tempfile\n",
    "import scipy.stats as sp\n",
    "from sklearn import manifold\n",
    "from utils import *\n",
    "from label_utils import *"
   ]
  },
  {
   "cell_type": "code",
   "execution_count": null,
   "metadata": {},
   "outputs": [],
   "source": [
    "s3_path = 's3://ukb-colorectal-cancer/analysis/'\n",
    "df = read_csv(s3_path+'crc_dataset.csv')"
   ]
  },
  {
   "cell_type": "code",
   "execution_count": null,
   "metadata": {},
   "outputs": [],
   "source": [
    "df.columns"
   ]
  },
  {
   "cell_type": "code",
   "execution_count": null,
   "metadata": {},
   "outputs": [],
   "source": [
    "df['label_crc'].value_counts()"
   ]
  },
  {
   "cell_type": "markdown",
   "metadata": {},
   "source": [
    "# X2 tests"
   ]
  },
  {
   "cell_type": "code",
   "execution_count": null,
   "metadata": {},
   "outputs": [],
   "source": [
    "# X2 tests\n",
    "\n",
    "chi_res = []\n",
    "pval = []\n",
    "\n",
    "c_idx = df['label_crc'] == False\n",
    "p_idx = df['label_crc'] == True\n",
    "c, p = df['label_crc'].value_counts()\n",
    "\n",
    "c_fr = np.array(df['sex'][c_idx].value_counts().to_list())\n",
    "p_fr = np.array(df['sex'][p_idx].value_counts().to_list())\n",
    "chi, ps = sp.chisquare(f_obs=c_fr/c*100,f_exp=p_fr/p*100)\n",
    "chi_res.append(chi); pval.append(ps)\n",
    "\n",
    "eth_codes =[1, 1001, 1002, 1003, 2001, 2002, 2003, 2004, 3001, 3002, 3003, 3004, 4001, 4002, 5]\n",
    "c_fr = []\n",
    "p_fr = []\n",
    "for i in eth_codes:\n",
    "    c_fr.append(len(df.loc[(df['ethnicity'] == i) & (df['label_crc'] == False)]))\n",
    "    p_fr.append(len(df.loc[(df['ethnicity'] == i) & (df['label_crc'] == True)]))\n",
    "chi, ps = sp.chisquare(f_obs=np.array(c_fr)/c*100,f_exp=np.array(p_fr)/p*100)\n",
    "chi_res.append(chi); pval.append(ps)\n",
    "\n",
    "stats_df = pd.DataFrame()\n",
    "stats_df = stats_df.assign(biomarker=['sex','ethnicity'], chi2=chi_res, p=pval)\n",
    "stats_df.to_csv(s3_path+'tables/chisquare_results.csv', index=False)\n",
    "stats_df"
   ]
  },
  {
   "cell_type": "markdown",
   "metadata": {},
   "source": [
    "# Intercorrelations"
   ]
  },
  {
   "cell_type": "code",
   "execution_count": null,
   "metadata": {},
   "outputs": [],
   "source": [
    "df2 = df[['sex','age','ethnicity','townsend',\\\n",
    "                 'bmi','pulse','dbp','sbp',\\\n",
    "                 'wbc','plt','lym','ualb','cr_urine','potas','sodium',\\\n",
    "                 'apob','urea','chol','crp','cysc','igf1','ldl','sph','apoa', 'hdl','shbg','e2', 'phos','gly','dha_tfa','pct', 'trunk_fat','cit','calc','tprotein','vitd',\\\n",
    "                 'tst','grip_l', 'grip_r','bmr', 'rbc','hgb','hct','cr_blood','mufa','tgly','ile', 'bla', 'leu', 'val','phe',  'tyr','alt', 'gln',  'his',   'alb','alp',\\\n",
    "          'ast',   'dbi', 'ggt', \\\n",
    "                 'glu', 'hgba1c','tbil', \\\n",
    "                 'baso', 'eos', 'mchc', 'mcv', 'mono', \\\n",
    "                 'np', 'ret', 'pdw',   \\\n",
    "          'rf',  'phbv', \\\n",
    "                   'adj_ts_ratio', 'unadj_ts_ratio', 'z_ts_ratio','label_crc']]"
   ]
  },
  {
   "cell_type": "code",
   "execution_count": null,
   "metadata": {},
   "outputs": [],
   "source": [
    "idx = df2.index[df2['label_crc'].isnull()]\n",
    "df2.drop(idx, inplace=True)\n",
    "df2.shape"
   ]
  },
  {
   "cell_type": "code",
   "execution_count": null,
   "metadata": {},
   "outputs": [],
   "source": [
    "# Calculate intercorrelations\n",
    "\n",
    "corrs = df2.corr()\n",
    "pval = df2.corr(method=lambda x, y: sp.pearsonr(x, y)[1]) - np.eye(*corrs.shape)\n",
    "\n",
    "mask = np.triu(np.ones_like(corrs, dtype=bool))\n",
    "plt.figure(figsize=(20,20))\n",
    "sns.heatmap(corrs, annot=False, annot_kws = {'size':9},fmt='.2f', mask=mask, xticklabels=1, yticklabels=1, \\\n",
    "            square=True, cbar_kws={\"shrink\": 0.5}, cmap='bwr', vmin=-0.5, vmax=0.5).set(title='Intercorrelations - rmap')\n",
    "\n",
    "plt.savefig('./figures/biomarker_rmap_everyone.jpg', dpi=150) \n",
    "plt.show()"
   ]
  },
  {
   "cell_type": "code",
   "execution_count": null,
   "metadata": {},
   "outputs": [],
   "source": [
    "\n",
    "mask = pval>0.05\n",
    "plt.figure(figsize=(20,20))\n",
    "sns.heatmap(corrs, annot=False, annot_kws = {'size':9},fmt='.2f', mask=mask, xticklabels=1, yticklabels=1, \\\n",
    "            square=True, cbar_kws={\"shrink\": 0.5}, cmap='bwr', vmin=-0.5, vmax=0.5).set(title='Intercorrelations - rmap p<0.05')\n",
    "\n",
    "plt.savefig('./figures/biomarker_rmap_everyone_masked.jpg', dpi=150) \n",
    "plt.show()"
   ]
  },
  {
   "cell_type": "code",
   "execution_count": null,
   "metadata": {},
   "outputs": [],
   "source": [
    "# Plot MDS\n",
    "\n",
    "dis = 1-abs(corrs)\n",
    "\n",
    "mds = manifold.MDS(n_components=5, max_iter=3000, eps=1e-9, dissimilarity='precomputed', random_state=42)\n",
    "results = mds.fit(dis)\n",
    "names = df2.columns\n",
    "coors = results.embedding_\n",
    "\n",
    "fig = plt.figure(figsize=(10,10))\n",
    "plt.subplots_adjust(bottom=0.1)\n",
    "plt.scatter(coors[:,0],coors[:,1])\n",
    "\n",
    "for label, x, y in zip(names, coors[:,0], coors[:,1]):\n",
    "    plt.annotate(label, xy=(x,y), xytext=(-15,15), textcoords='offset points')\n",
    "plt.savefig('./figures/mds_dissimilarity.jpg', dpi=150) \n",
    "plt.show()"
   ]
  },
  {
   "cell_type": "code",
   "execution_count": null,
   "metadata": {},
   "outputs": [],
   "source": [
    "df_lab = read_csv(s3_path+'labels/all_cancer_labels.csv')\n",
    "labels = df_lab.columns.to_list()\n",
    "\n",
    "rho_arr = np.empty((len(labels),len(df2.columns)), float)\n",
    "p_arr = np.empty((len(labels),len(df2.columns)), float)"
   ]
  },
  {
   "cell_type": "code",
   "execution_count": null,
   "metadata": {},
   "outputs": [],
   "source": [
    "for cancer in labels:\n",
    "    i = labels.index(cancer)\n",
    "    df2 = df[['age','townsend',\\\n",
    "          'bmi','pulse','dbp','sbp',\\\n",
    "          'wbc','rbc','hgb','hct','plt','lym','ualb','cr_urine','potas','sodium',\\\n",
    "          'apoa','apob','urea','chol','crp','cysc','hdl','igf1','ldl','shbg',\\\n",
    "          'tst','tprotein','tgly','vitd',\\\n",
    "          'age_at_diagnosis','n_cancer_dx','n_cancer_occs','age_at_death', \\\n",
    "          'baso', 'eos', 'mchc', 'mcv', 'mono', \\\n",
    "          'np', 'ret', 'pdw', 'pct', 'alt', 'alb', \\\n",
    "          'alp', 'ast', 'calc', 'cr_blood', 'dbi', 'ggt', \\\n",
    "          'glu', 'hgba1c', 'e2', 'phos', 'rf', 'tbil', 'phbv', \\\n",
    "          'cit', 'gln', 'gly', 'his', 'ile', 'bla', 'leu', 'mufa',\\\n",
    "          'phe', 'sph', 'tyr', 'val', 'dha_tfa', 'grip_l', 'grip_r', \\\n",
    "          'trunk_fat', 'bmr', 'adj_ts_ratio', 'unadj_ts_ratio', 'z_ts_ratio']]\n",
    "    \n",
    "    lb = df_lab.pop(cancer)\n",
    "    df2['lb'] = lb\n",
    "    idx = df2['lb'].index[df2['lb']==2].to_list() + df2['lb'].index[df2['lb']==3].to_list()\n",
    "    df2.drop(idx, inplace=True)\n",
    "    lb = df2.pop('lb')\n",
    "    \n",
    "    for col in df2:\n",
    "        j = df2.columns.get_loc(col)\n",
    "        rho, p = sp.spearmanr(df2[col],lb, nan_policy='omit')\n",
    "        rho_arr[i,j] = rho\n",
    "        p_arr[i,j] = p"
   ]
  },
  {
   "cell_type": "code",
   "execution_count": null,
   "metadata": {},
   "outputs": [],
   "source": [
    "fig1, (ax1, ax2, ax3) = plt.subplots(3,1,figsize=(25,20))\n",
    "\n",
    "ax1 = plt.subplot(311)\n",
    "sns.heatmap(rho_arr, annot=False, annot_kws = {'size':9},fmt='.2f', xticklabels=df2.columns, yticklabels=df_lab.columns, \\\n",
    "            square=True, cbar_kws={\"shrink\": 0.5}, cmap='bwr', vmin=-0.04, vmax=0.04).set(title='r-map')\n",
    "sns.set(font_scale=1.2)\n",
    "\n",
    "mask = p_arr>0.05\n",
    "ax2 = plt.subplot(312)\n",
    "sns.heatmap(rho_arr, annot=False, annot_kws = {'size':9},fmt='.2f', mask=mask, xticklabels=df2.columns, yticklabels=df_lab.columns, \\\n",
    "            square=True, cbar_kws={\"shrink\": 0.5}, cmap='bwr', vmin=-0.04, vmax=0.04).set(title='r-map at p<0.05 uncor')\n",
    "\n",
    "mask = p_arr>(0.05/len(df2.columns))\n",
    "ax3 = plt.subplot(313)\n",
    "sns.heatmap(rho_arr, annot=False, annot_kws = {'size':9},fmt='.2f', mask=mask, xticklabels=df2.columns, yticklabels=df_lab.columns, \\\n",
    "            square=True, cbar_kws={\"shrink\": 0.5}, cmap='bwr', vmin=-0.04, vmax=0.04).set(title='r-map at p<0.05 cor')\n",
    "\n",
    "\n",
    "plt.savefig('./figures/biomarker_cancer_label_rmap.jpg', dpi=150) \n",
    "plt.show()"
   ]
  },
  {
   "cell_type": "markdown",
   "metadata": {},
   "source": [
    "# K-means"
   ]
  },
  {
   "cell_type": "code",
   "execution_count": null,
   "metadata": {},
   "outputs": [],
   "source": [
    "from sklearn.cluster import KMeans\n",
    "from sklearn.metrics import calinski_harabasz_score, silhouette_score\n",
    "\n",
    "df2 = df[['age', 'townsend', 'bmi', 'pulse', 'dbp', 'sbp',\n",
    "       'wbc', 'rbc', 'hgb', 'hct', 'plt', 'lym', 'ualb', 'cr_urine', 'potas',\n",
    "       'sodium', 'apoa', 'apob', 'urea', 'chol', 'crp', 'cysc', 'hdl', 'igf1',\n",
    "       'ldl', 'shbg', 'tst', 'tprotein', 'tgly', 'vitd']]\n",
    "df2.dropna(inplace=True)"
   ]
  },
  {
   "cell_type": "code",
   "execution_count": null,
   "metadata": {},
   "outputs": [],
   "source": [
    "search_range = range(1, 11)\n",
    "report = {}\n",
    "for k in search_range:\n",
    "    temp_dict = {}\n",
    "    kmeans = KMeans(init='k-means++',\n",
    "                    algorithm='auto',\n",
    "                    n_clusters=k,\n",
    "                    max_iter=1000,\n",
    "                    random_state=1,\n",
    "                    verbose=0).fit(df2.T)\n",
    "    inertia = kmeans.inertia_\n",
    "    temp_dict['Sum of squared error'] = inertia\n",
    "    try:\n",
    "        cluster = kmeans.predict(df2.T)\n",
    "        chs = calinski_harabasz_score(df2.T, cluster)\n",
    "        ss = silhouette_score(df2.T, cluster)\n",
    "        temp_dict['Calinski Harabasz Score'] = chs\n",
    "        temp_dict['Silhouette Score'] = ss\n",
    "        report[k] = temp_dict\n",
    "    except:\n",
    "        report[k] = temp_dict"
   ]
  },
  {
   "cell_type": "code",
   "execution_count": null,
   "metadata": {},
   "outputs": [],
   "source": [
    "report_df = pd.DataFrame(report).T\n",
    "report_df.plot(figsize=(10, 7),\n",
    "               xticks=search_range,\n",
    "               grid=True,\n",
    "               title=f'Selecting optimal \"K\"',\n",
    "               subplots=True,\n",
    "               marker='o',\n",
    "               sharex=True)\n",
    "plt.tight_layout()\n",
    "plt.show()"
   ]
  },
  {
   "cell_type": "code",
   "execution_count": null,
   "metadata": {},
   "outputs": [],
   "source": [
    "k_model = KMeans(n_clusters=4, random_state=42)\n",
    "k_model.fit(df2.T)\n",
    "k_model.cluster_centers_.shape"
   ]
  },
  {
   "cell_type": "code",
   "execution_count": null,
   "metadata": {},
   "outputs": [],
   "source": [
    "segmented_data = pd.DataFrame()\n",
    "segmented_data['Biomarkers']=df2.columns\n",
    "segmented_data['Cluster']=k_model.labels_\n",
    "segmented_data.sort_values(by='Cluster', ascending=True)"
   ]
  },
  {
   "cell_type": "markdown",
   "metadata": {},
   "source": [
    "# Stats"
   ]
  },
  {
   "cell_type": "code",
   "execution_count": null,
   "metadata": {},
   "outputs": [],
   "source": [
    "from sklearn.preprocessing import minmax_scale"
   ]
  },
  {
   "cell_type": "code",
   "execution_count": null,
   "metadata": {},
   "outputs": [],
   "source": [
    "df2 = df[['age','townsend',\\\n",
    "          'bmi','pulse','dbp','sbp',\\\n",
    "          'wbc','rbc','hgb','hct','plt','lym','ualb','cr_urine','potas','sodium',\\\n",
    "          'apoa','apob','urea','chol','crp','cysc','hdl','igf1','ldl','shbg',\\\n",
    "          'tst','tprotein','tgly','vitd',\\\n",
    "          'age_at_diagnosis','n_cancer_dx','n_cancer_occs','age_at_death', \\\n",
    "          'baso', 'eos', 'mchc', 'mcv', 'mono', \\\n",
    "          'np', 'ret', 'pdw', 'pct', 'alt', 'alb', \\\n",
    "          'alp', 'ast', 'calc', 'cr_blood', 'dbi', 'ggt', \\\n",
    "          'glu', 'hgba1c', 'e2', 'phos', 'rf', 'tbil', 'phbv', \\\n",
    "          'cit', 'gln', 'gly', 'his', 'ile', 'bla', 'leu', 'mufa',\\\n",
    "          'phe', 'sph', 'tyr', 'val', 'dha_tfa', 'grip_l', 'grip_r', \\\n",
    "          'trunk_fat', 'bmr', 'adj_ts_ratio', 'unadj_ts_ratio', 'z_ts_ratio']]\n",
    "\n",
    "c_idx = df['label_crc'] == False\n",
    "p_idx = df['label_crc'] == True"
   ]
  },
  {
   "cell_type": "code",
   "execution_count": null,
   "metadata": {},
   "outputs": [],
   "source": [
    "mean_c = []; mean_p = []; mean_cn = []; mean_pn = []\n",
    "sd_c = []; sd_p = []\n",
    "count_c = []; count_p = []\n",
    "\n",
    "norm_test = []\n",
    "tval = []\n",
    "t_pval = []\n",
    "uval = []\n",
    "u_pval = []\n",
    "\n",
    "for col in df2:\n",
    "    count_c.append(df2[col][c_idx].count())\n",
    "    count_p.append(df2[col][p_idx].count())\n",
    "    mean_c.append(np.nanmean(df2[col][c_idx]))\n",
    "    mean_p.append(np.nanmean(df2[col][p_idx]))\n",
    "    d = minmax_scale(df2[col], feature_range=(0,1), axis=0)\n",
    "    mean_cn.append(np.nanmean(d[c_idx]))\n",
    "    mean_pn.append(np.nanmean(d[p_idx]))\n",
    "    sd_c.append(np.nanstd(df2[col][c_idx]))\n",
    "    sd_p.append(np.nanstd(df2[col][p_idx]))\n",
    "    nm = sp.normaltest(df2[col], nan_policy='omit') # Check whether the biomarkers come from normal distributions (0=not normal)\n",
    "    norm_test.append(nm[1])\n",
    "    res = sp.ttest_ind(df2[col][c_idx],df2[col][p_idx], nan_policy='omit') # Between samples t-tests\n",
    "    tval.append(res[0]); t_pval.append(round(res[1],3))\n",
    "    res = sp.mannwhitneyu(df2[col][c_idx],df2[col][p_idx]) # Mann Whitney U tests\n",
    "    uval.append(round(res[0],2)); u_pval.append(round(res[1],3))"
   ]
  },
  {
   "cell_type": "code",
   "execution_count": null,
   "metadata": {},
   "outputs": [],
   "source": [
    "pd.set_option('display.max_rows', None)\n",
    "stats_df = pd.DataFrame()\n",
    "stats_df = stats_df.assign(biomarker=df2.columns, count_c=count_c, count_p=count_p, mean_c=mean_c, mean_cn=mean_cn, sd_c=sd_c, \\\n",
    "                           mean_p=mean_p, mean_pn=mean_pn, sd_p=sd_p, normality=norm_test, tval=tval, t_pval=t_pval, uval=uval, u_pval=u_pval)\n",
    "stats_df.to_csv(s3_path+'tables/group_stats.csv', index=False)\n",
    "stats_df = stats_df.sort_values(by=['u_pval'], ascending=True, ignore_index=True)\n",
    "stats_df"
   ]
  },
  {
   "cell_type": "code",
   "execution_count": null,
   "metadata": {},
   "outputs": [],
   "source": [
    "idx = np.array(stats_df.index[stats_df['u_pval']>0.05])\n",
    "x = np.arange(len(stats_df))\n",
    "width = 0.35  # the width of the bars\n",
    "\n",
    "fig, ax = plt.subplots(figsize=(15,5))\n",
    "rects1 = ax.bar(x - width/2, stats_df['mean_cn'], width, label='HC', color='navy')\n",
    "rects2 = ax.bar(x + width/2, stats_df['mean_pn'], width, label='CRC', color='tomato')\n",
    "ax.set_ylabel('au')\n",
    "ax.set_title('Normalised means by group')\n",
    "ax.set_xticks(x)\n",
    "ax.set_xticklabels(stats_df['biomarker'], rotation=80)\n",
    "ax.legend()\n",
    "#ax.bar_label(mean_cn)\n",
    "#ax.bar_label(rects2, padding=3)\n",
    "for j in idx:\n",
    "    rects1[j].set_color('grey')\n",
    "    rects2[j].set_color('gainsboro')\n",
    "\n",
    "fig.tight_layout()\n",
    "plt.savefig('./figures/biomarker_group_effects.jpg', dpi=150) \n",
    "plt.show()"
   ]
  },
  {
   "cell_type": "markdown",
   "metadata": {},
   "source": [
    "# PCA"
   ]
  },
  {
   "cell_type": "code",
   "execution_count": null,
   "metadata": {},
   "outputs": [],
   "source": [
    "from sklearn.decomposition import PCA\n",
    "from sklearn.preprocessing import StandardScaler, MinMaxScaler\n",
    "from sklearn.impute import KNNImputer"
   ]
  },
  {
   "cell_type": "code",
   "execution_count": null,
   "metadata": {},
   "outputs": [],
   "source": [
    "s3_path = 's3://ukb-colorectal-cancer/analysis/'\n",
    "df = read_csv(s3_path+'crc_dataset.csv')\n",
    "\n",
    "df2 = df[['age','townsend',\\\n",
    "          'bmi','pulse','dbp','sbp',\\\n",
    "          'wbc','rbc','hgb','hct','plt','lym','ualb','cr_urine','potas','sodium',\\\n",
    "          'apoa','apob','urea','chol','crp','cysc','hdl','igf1','ldl','shbg',\\\n",
    "          'tst','tprotein','tgly','vitd',\\\n",
    "          'baso', 'eos', 'mchc', 'mcv', 'mono', \\\n",
    "          'np', 'ret', 'pdw', 'pct', 'alt', 'alb', \\\n",
    "          'alp', 'ast', 'calc', 'cr_blood', 'dbi', 'ggt', \\\n",
    "          'glu', 'hgba1c', 'e2', 'phos', 'rf', 'tbil', 'phbv', \\\n",
    "          'cit', 'gln', 'gly', 'his', 'ile', 'bla', 'leu', 'mufa',\\\n",
    "          'phe', 'sph', 'tyr', 'val', 'dha_tfa', 'grip_l', 'grip_r', \\\n",
    "          'trunk_fat', 'bmr', 'adj_ts_ratio', 'unadj_ts_ratio', 'z_ts_ratio']]\n",
    "\n",
    "df2.head()"
   ]
  },
  {
   "cell_type": "code",
   "execution_count": null,
   "metadata": {},
   "outputs": [],
   "source": [
    "null_perc = np.array(df2.isna().sum(axis=1)/len(df2.columns)*100) # drop rows that have more than 30% missing values\n",
    "idx = list(np.where(null_perc>30))\n",
    "len(idx[0])\n",
    "df2['label_crc']=df['label_crc']\n",
    "df2.drop(df2.index[idx], axis=0, inplace=True)\n",
    "df2.shape"
   ]
  },
  {
   "cell_type": "code",
   "execution_count": null,
   "metadata": {},
   "outputs": [],
   "source": [
    "#c,p = df2['label_crc'].value_counts(); print(p)\n",
    "#df2 = get_subset_of_rows_balanced(df2, stratify_key='label_crc', random_state=0)\n",
    "y = df2.pop('label_crc')\n",
    "df2.shape"
   ]
  },
  {
   "cell_type": "code",
   "execution_count": null,
   "metadata": {},
   "outputs": [],
   "source": [
    "scaler = MinMaxScaler() # normalise columns\n",
    "df2 = pd.DataFrame(scaler.fit_transform(df2), columns = df2.columns)\n",
    "imputer = KNNImputer(n_neighbors=5) # impute missing values using nearest neighbours\n",
    "df2 = pd.DataFrame(imputer.fit_transform(df2), columns=df2.columns)\n",
    "x = StandardScaler().fit_transform(df2) #scale columns"
   ]
  },
  {
   "cell_type": "code",
   "execution_count": null,
   "metadata": {},
   "outputs": [],
   "source": [
    "pca = PCA(n_components=3)\n",
    "pc = pca.fit_transform(x)\n",
    "pc_df = pd.DataFrame(data=pc, columns=['PC1','PC2','PC3'])\n",
    "pc_df['label'] = y\n",
    "pc_df.head()"
   ]
  },
  {
   "cell_type": "code",
   "execution_count": null,
   "metadata": {
    "collapsed": true,
    "jupyter": {
     "outputs_hidden": true
    }
   },
   "outputs": [],
   "source": [
    "pca.explained_variance_"
   ]
  },
  {
   "cell_type": "markdown",
   "metadata": {},
   "source": [
    "# Odds ratios"
   ]
  },
  {
   "cell_type": "code",
   "execution_count": null,
   "metadata": {},
   "outputs": [],
   "source": [
    "from scipy.stats import fisher_exact"
   ]
  },
  {
   "cell_type": "code",
   "execution_count": null,
   "metadata": {},
   "outputs": [],
   "source": [
    "biomarkers = ['age', 'ethnicity', 'townsend', 'bmi', 'pulse', 'dbp', 'sbp',\n",
    "       'wbc', 'rbc', 'hgb', 'hct', 'plt', 'lym', 'ualb', 'cr_urine', 'potas',\n",
    "       'sodium', 'apoa', 'apob', 'urea', 'chol', 'crp', 'cysc', 'hdl', 'igf1',\n",
    "       'ldl', 'shbg', 'tst', 'tprotein', 'tgly', 'vitd', 'age_at_diagnosis',\n",
    "       'n_cancer_dx', 'n_cancer_occs', 'age_at_death', 'tumour_hist',\n",
    "       'tumour_beh', 'baso', 'eos', 'mchc', 'mcv', 'mono', 'np', 'ret', 'pdw',\n",
    "       'pct', 'alt', 'alb', 'alp', 'ast', 'calc', 'cr_blood', 'dbi', 'ggt',\n",
    "       'glu', 'hgba1c', 'e2', 'phos', 'rf', 'tbil', 'phbv', 'cit', 'gln',\n",
    "       'gly', 'his', 'ile', 'bla', 'leu', 'mufa', 'phe', 'sph', 'tyr', 'val',\n",
    "       'dha_tfa', 'grip_l', 'grip_r', 'trunk_fat', 'bmr', 'adj_ts_ratio',\n",
    "       'ts_ratio_reg', 'unadj_ts_ratio', 'z_ts_ratio']\n",
    "df2 = df[biomarkers].copy(deep=True)"
   ]
  },
  {
   "cell_type": "code",
   "execution_count": null,
   "metadata": {},
   "outputs": [],
   "source": [
    "df_lab = pd.read_csv(s3_path+'labels/all_cancer_labels.csv')\n",
    "ca_sites = df_lab.columns.to_list()\n",
    "\n",
    "for ca in ca_sites:\n",
    "    \n",
    "    df = pd.read_csv(s3_path+ca+'_dataset.csv')\n",
    "    df2 = df[biomarkers].copy(deep=True)\n",
    "    \n",
    "    count_c = []; count_p = []\n",
    "    perc_c = []; perc_p = []\n",
    "    OR1 = []; OR2 = []; pval = []\n",
    "    ci_l = []; ci_u = []\n",
    "\n",
    "    for col in df2:\n",
    "        ul = np.nanpercentile(df[col],75)\n",
    "        ll = np.nanpercentile(df[col],25)\n",
    "\n",
    "        a = len(df.loc[(df2[col] > ul) & (df['label'] == True)])\n",
    "        b = len(df.loc[(df2[col] > ul) & (df['label'] == False)])\n",
    "        c = len(df.loc[(df2[col] < ll) & (df['label'] == True)])\n",
    "        d = len(df.loc[(df2[col] < ll) & (df['label'] == False)])\n",
    "    \n",
    "        count_c.append(b)\n",
    "        count_p.append(a)\n",
    "        if (a+c)>0:\n",
    "            perc_p.append(a/(a+c)*100)\n",
    "        else:\n",
    "            perc_p.append(0)\n",
    "        if (b+d)>0:    \n",
    "            perc_c.append(b/(b+d)*100)\n",
    "        else:\n",
    "            perc_c.append(0)\n",
    "        table = np.array([[a, b], [c, d]])\n",
    "        OR, p = fisher_exact(table)\n",
    "        if np.all([a, b, c, d]):\n",
    "            ci_l.append(np.exp(np.log(OR) - 1.96*(np.sqrt((1/a)+(1/b)+(1/c)+(1/d)))))\n",
    "            ci_u.append(np.exp(np.log(OR) + 1.96*(np.sqrt((1/a)+(1/b)+(1/c)+(1/d)))))\n",
    "        else:\n",
    "            ci_l.append(np.NaN)\n",
    "            ci_u.append(np.NaN)\n",
    "        OR1.append(OR)\n",
    "        OR2.append(1/OR)\n",
    "        pval.append(p/2)\n",
    "        \n",
    "    pd.set_option('display.max_rows', None)\n",
    "    stats_df = pd.DataFrame()\n",
    "    stats_df = stats_df.assign(biomarker=df2.columns, count_c=count_c, perc_c=perc_c, count_p=count_p, perc_p=perc_p, \\\n",
    "                           OR1=OR1, OR2=OR2, CI_L=ci_l, CI_U=ci_u, p=pval)\n",
    "    stats_df.to_csv(s3_path+'tables/odds_ratio_75_25th_perc_stats'+ca+'.csv', index=False)"
   ]
  },
  {
   "cell_type": "code",
   "execution_count": null,
   "metadata": {
    "collapsed": true,
    "jupyter": {
     "outputs_hidden": true
    }
   },
   "outputs": [],
   "source": [
    "ca = ca_sites[3]\n",
    "print(ca)\n",
    "df = pd.read_csv(s3_path+'tables/odds_ratio_75_25th_perc_stats'+ca+'.csv')\n",
    "df.sort_values(by='p', ascending=True)"
   ]
  },
  {
   "cell_type": "markdown",
   "metadata": {},
   "source": [
    "# Hazard ratios - KM"
   ]
  },
  {
   "cell_type": "code",
   "execution_count": null,
   "metadata": {},
   "outputs": [],
   "source": [
    "pip install lifelines\n",
    "from lifelines import KaplanMeierFitter"
   ]
  },
  {
   "cell_type": "code",
   "execution_count": null,
   "metadata": {},
   "outputs": [],
   "source": [
    "s3_path = 's3://ukb-colorectal-cancer/analysis/'\n",
    "df = read_csv(s3_path+'crc_dataset.csv')"
   ]
  },
  {
   "cell_type": "code",
   "execution_count": null,
   "metadata": {},
   "outputs": [],
   "source": [
    "idx = df.index[df['label_crc'].isnull()]\n",
    "df.drop(idx, inplace=True)\n",
    "idx = df.index[df['age'].isnull()]\n",
    "df.drop(idx, inplace=True)\n",
    "df.reset_index(inplace=True, drop=True)"
   ]
  },
  {
   "cell_type": "code",
   "execution_count": null,
   "metadata": {},
   "outputs": [],
   "source": [
    "p_idx = df.index[(df['label_crc']==1) & (df['age_at_diagnosis'].notnull())].to_list()\n",
    "c_idx = df.index[(df['label_crc']==0) & (df['age_at_diagnosis'].isnull())].to_list()\n",
    "T = df.iloc[c_idx+p_idx]['age']\n",
    "C = df.iloc[c_idx+p_idx]['label_crc']\n",
    "kmf = KaplanMeierFitter()\n",
    "kmf.fit(T,C)"
   ]
  },
  {
   "cell_type": "code",
   "execution_count": null,
   "metadata": {},
   "outputs": [],
   "source": [
    "%pylab inline\n",
    "figsize(12,8)\n",
    "kmf.plot_survival_function()"
   ]
  }
 ],
 "metadata": {
  "instance_type": "ml.t3.medium",
  "kernelspec": {
   "display_name": "Python 3 (Data Science)",
   "language": "python",
   "name": "python3__SAGEMAKER_INTERNAL__arn:aws:sagemaker:eu-west-2:712779665605:image/datascience-1.0"
  },
  "language_info": {
   "codemirror_mode": {
    "name": "ipython",
    "version": 3
   },
   "file_extension": ".py",
   "mimetype": "text/x-python",
   "name": "python",
   "nbconvert_exporter": "python",
   "pygments_lexer": "ipython3",
   "version": "3.7.10"
  }
 },
 "nbformat": 4,
 "nbformat_minor": 4
}
